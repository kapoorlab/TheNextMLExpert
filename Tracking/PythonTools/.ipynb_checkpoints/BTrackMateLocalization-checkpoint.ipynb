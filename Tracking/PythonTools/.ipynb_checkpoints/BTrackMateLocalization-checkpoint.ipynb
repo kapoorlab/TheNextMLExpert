{
 "cells": [
  {
   "cell_type": "markdown",
   "metadata": {},
   "source": [
    "# Checkpoint Maker for Fiji BTrackMate and Python btrack\n",
    "\n",
    "In this notebook we create attributes of the segmented cells in 3D to create the csv file of cell properties compatiable with both Fiji BTrackMate and Python btrack. Two CSV fiels are saved (one for Fiji and other one for Python)."
   ]
  },
  {
   "cell_type": "code",
   "execution_count": 4,
   "metadata": {},
   "outputs": [],
   "source": [
    "import os\n",
    "from tifffile import imread\n",
    "from napatrackmater import CreateTrackCheckpoint\n",
    "from pathlib import Path"
   ]
  },
  {
   "cell_type": "code",
   "execution_count": 7,
   "metadata": {},
   "outputs": [],
   "source": [
    "ImageName = '/Users/aimachine/fmi-assignment/FakeTimeLapseRaw.tif'\n",
    "SegImageName = '/Users/aimachine/fmi-assignment/FakeTimeLapseSegmentation.tif'\n",
    "MaskImageName = '/Users/aimachine/fmi-assignment/FakeTimeLapseMask.tif'\n",
    "savedir = '/Users/aimachine/fmi-assignment/'\n",
    "Name = os.path.basename(os.path.splitext(ImageName)[0])\n",
    "Path(savedir).mkdir(exist_ok = True)\n",
    "LoadImage = True"
   ]
  },
  {
   "cell_type": "code",
   "execution_count": 8,
   "metadata": {},
   "outputs": [
    {
     "name": "stdout",
     "output_type": "stream",
     "text": [
      "Reading Image\n",
      "Reading Segmentation Image\n"
     ]
    },
    {
     "name": "stderr",
     "output_type": "stream",
     "text": [
      " 25%|██▌       | 1/4 [00:00<00:00,  9.08it/s]"
     ]
    },
    {
     "name": "stdout",
     "output_type": "stream",
     "text": [
      "Generating checkpoint CSV files for BTrackMate and bTrack\n",
      "Image has shape: (4, 34, 512, 512)\n",
      "Image Dimensions: 4\n"
     ]
    },
    {
     "name": "stderr",
     "output_type": "stream",
     "text": [
      "100%|██████████| 4/4 [00:00<00:00, 13.64it/s]\n"
     ]
    },
    {
     "data": {
      "text/plain": [
       "'/Users/aimachine/fmi-assignment/CellTracking//PythonbTrackCellsFakeTimeLapseRaw.csv'"
      ]
     },
     "execution_count": 8,
     "metadata": {},
     "output_type": "execute_result"
    }
   ],
   "source": [
    "if LoadImage:\n",
    "  print('Reading Image')  \n",
    "  image = imread(ImageName)\n",
    "  print('Reading Segmentation Image')  \n",
    "  segimage = imread(SegImageName).astype('uint16')  \n",
    "else:\n",
    "  print('Reading Segmentation Image')  \n",
    "  segimage = imread(SegImageName).astype('uint16')   \n",
    "  image = segimage\n",
    "if MaskImageName is not None:\n",
    "    Mask = imread(MaskImageName)\n",
    "else:\n",
    "    Mask = None    \n",
    "print('Generating checkpoint CSV files for BTrackMate and bTrack')\n",
    "CreateTrackCheckpoint(image, segimage, Mask, Name, savedir)"
   ]
  },
  {
   "cell_type": "code",
   "execution_count": null,
   "metadata": {},
   "outputs": [],
   "source": []
  },
  {
   "cell_type": "code",
   "execution_count": null,
   "metadata": {},
   "outputs": [],
   "source": []
  }
 ],
 "metadata": {
  "kernelspec": {
   "display_name": "Python [conda env:NapariTrack] *",
   "language": "python",
   "name": "conda-env-NapariTrack-py"
  },
  "language_info": {
   "codemirror_mode": {
    "name": "ipython",
    "version": 3
   },
   "file_extension": ".py",
   "mimetype": "text/x-python",
   "name": "python",
   "nbconvert_exporter": "python",
   "pygments_lexer": "ipython3",
   "version": "3.9.0"
  }
 },
 "nbformat": 4,
 "nbformat_minor": 4
}
