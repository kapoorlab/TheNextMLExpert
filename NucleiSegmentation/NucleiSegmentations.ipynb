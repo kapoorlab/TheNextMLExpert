{
 "cells": [
  {
   "cell_type": "markdown",
   "metadata": {},
   "source": [
    "# In this notebook we use napari to correct the segmentation mistakes.\n",
    "\n"
   ]
  },
  {
   "cell_type": "code",
   "execution_count": 4,
   "metadata": {},
   "outputs": [],
   "source": [
    "import sys\n",
    "import os\n",
    "import numpy as np\n",
    "import glob\n",
    "from tifffile import imread, imwrite\n",
    "import napari\n",
    "from pathlib import Path\n"
   ]
  },
  {
   "cell_type": "code",
   "execution_count": 5,
   "metadata": {},
   "outputs": [],
   "source": [
    "Imagedir = '/Users/aimachine/fmi-assignment/Denoised/'\n",
    "NucleiSegmentationStar = '/Users/aimachine/fmi-assignment/SegmentationResults/NucleiStarDist/'\n",
    "NucleiSegmentationSmart = '/Users/aimachine/fmi-assignment/SegmentationResults/NucleiSmartSeeds/'\n",
    "scaleZ = 1\n",
    "scaleX = 1\n",
    "scaleY = 1"
   ]
  },
  {
   "cell_type": "code",
   "execution_count": 6,
   "metadata": {},
   "outputs": [
    {
     "name": "stdout",
     "output_type": "stream",
     "text": [
      "/Users/aimachine/fmi-assignment/Denoised/20201005_2B10-A2_90min_1_s1_t141.tif\n",
      "/Users/aimachine/fmi-assignment/Denoised/20201005_2B10-A2_0min_1_s1_t38.tif\n",
      "/Users/aimachine/fmi-assignment/Denoised/20201005_2G9_0min_1_s2_t106.tif\n",
      "/Users/aimachine/fmi-assignment/Denoised/20201005_2G9_90min_1_s1_t101.tif\n",
      "/Users/aimachine/fmi-assignment/Denoised/20201007_2B10_90min_1_s1_t46.tif\n",
      "/Users/aimachine/fmi-assignment/Denoised/20201005_3G4_0min_1_s1_t10.tif\n"
     ]
    }
   ],
   "source": [
    "Raw_path = os.path.join(Imagedir, '*tif')\n",
    "SegSmart_path = os.path.join(NucleiSegmentationSmart, '*tif')\n",
    "SegStar_path = os.path.join(NucleiSegmentationStar, '*tif')\n",
    "\n",
    "\n",
    "filesRaw = glob.glob(Raw_path)\n",
    "filesRaw.sort\n",
    "filesSegStar = glob.glob(SegStar_path)\n",
    "filesSegStar.sort\n",
    "filesSegSmart = glob.glob(SegSmart_path)\n",
    "filesSegSmart.sort\n",
    "\n",
    "\n",
    "for fname in filesRaw:\n",
    "  for secondname in filesSegStar:\n",
    "     for thirdname in filesSegSmart:\n",
    "           \n",
    "                 FirstName = os.path.basename(os.path.splitext(fname)[0])\n",
    "                 SegStarName = os.path.basename(os.path.splitext(secondname)[0])\n",
    "                 SegSmartName = os.path.basename(os.path.splitext(thirdname)[0] )  \n",
    "                     \n",
    "                 if FirstName == SegStarName == SegSmartName:\n",
    "                        print(fname)\n",
    "                        image = imread(fname)\n",
    "\n",
    "                        SegStarimage = imread(secondname)\n",
    "                        SegSmartimage = imread(thirdname)\n",
    "                        SegSpotimage = imread(fourthname)                        \n",
    "                        SegSpotIlastikimage = imread(fifthname)\n",
    "                        Name = (os.path.basename(os.path.splitext(fname)[0]))\n",
    "                        with napari.gui_qt():\n",
    "\n",
    "\n",
    "                            viewer = napari.view_image(image, name='Raw',  scale = [scaleZ,scaleY,scaleX])\n",
    "                            viewer.add_labels(SegStarimage, name= 'Stardist', scale = [scaleZ,scaleY,scaleX]) \n",
    "                            viewer.add_labels(SegSmartimage, name= 'SmartSeeds', scale = [scaleZ,scaleY,scaleX])                     \n",
    "                            "
   ]
  },
  {
   "cell_type": "code",
   "execution_count": null,
   "metadata": {},
   "outputs": [],
   "source": []
  },
  {
   "cell_type": "code",
   "execution_count": null,
   "metadata": {},
   "outputs": [],
   "source": []
  }
 ],
 "metadata": {
  "kernelspec": {
   "display_name": "Python [conda env:NapariTrack] *",
   "language": "python",
   "name": "conda-env-NapariTrack-py"
  },
  "language_info": {
   "codemirror_mode": {
    "name": "ipython",
    "version": 3
   },
   "file_extension": ".py",
   "mimetype": "text/x-python",
   "name": "python",
   "nbconvert_exporter": "python",
   "pygments_lexer": "ipython3",
   "version": "3.9.0"
  }
 },
 "nbformat": 4,
 "nbformat_minor": 2
}
