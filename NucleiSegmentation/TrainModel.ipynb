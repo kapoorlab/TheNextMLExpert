{
  "nbformat": 4,
  "nbformat_minor": 0,
  "metadata": {
    "kernelspec": {
      "display_name": "Python 3",
      "language": "python",
      "name": "python3"
    },
    "language_info": {
      "codemirror_mode": {
        "name": "ipython",
        "version": 3
      },
      "file_extension": ".py",
      "mimetype": "text/x-python",
      "name": "python",
      "nbconvert_exporter": "python",
      "pygments_lexer": "ipython3",
      "version": "3.8.5"
    },
    "colab": {
      "name": "TrainModel.ipynb",
      "provenance": [],
      "collapsed_sections": [],
      "toc_visible": true,
      "machine_shape": "hm"
    },
    "accelerator": "GPU"
  },
  "cells": [
    {
      "cell_type": "markdown",
      "metadata": {
        "id": "TYR0BPbj3RtP"
      },
      "source": [
        "# In this notebook we use Pre-trained model which is specified as copy model and we train it on our own annotated images. This strategy helps when your own training data is limited "
      ]
    },
    {
      "cell_type": "code",
      "metadata": {
        "colab": {
          "base_uri": "https://localhost:8080/"
        },
        "id": "K5oeUOvS3RtU",
        "outputId": "e1c4fa38-4384-40a3-d673-e2368f68d4df"
      },
      "source": [
        "from google.colab import drive\n",
        "drive.mount('/content/drive', force_remount = True)\n",
        "%tensorflow_version 1.x"
      ],
      "execution_count": 1,
      "outputs": [
        {
          "output_type": "stream",
          "text": [
            "Mounted at /content/drive\n",
            "TensorFlow 1.x selected.\n"
          ],
          "name": "stdout"
        }
      ]
    },
    {
      "cell_type": "code",
      "metadata": {
        "colab": {
          "base_uri": "https://localhost:8080/"
        },
        "id": "slUcZTMQ3RtU",
        "outputId": "45e5f916-78d2-4248-dcb4-f396fdf67d48"
      },
      "source": [
        "!pip install tiffile\n",
        "!pip install elasticdeform\n",
        "!pip install keras==2.2.5\n",
        "!pip install csbdeep\n",
        "!pip install stardist\n",
        "!pip install gputools\n",
        "!pip install btrack"
      ],
      "execution_count": 2,
      "outputs": [
        {
          "output_type": "stream",
          "text": [
            "Requirement already satisfied: tiffile in /usr/local/lib/python3.6/dist-packages (2018.10.18)\n",
            "Requirement already satisfied: tifffile in /usr/local/lib/python3.6/dist-packages (from tiffile) (2020.9.3)\n",
            "Requirement already satisfied: numpy>=1.15.1 in /usr/local/lib/python3.6/dist-packages (from tifffile->tiffile) (1.19.5)\n",
            "Requirement already satisfied: elasticdeform in /usr/local/lib/python3.6/dist-packages (0.4.7)\n",
            "Requirement already satisfied: scipy in /usr/local/lib/python3.6/dist-packages (from elasticdeform) (1.4.1)\n",
            "Requirement already satisfied: numpy in /usr/local/lib/python3.6/dist-packages (from elasticdeform) (1.19.5)\n",
            "Requirement already satisfied: keras==2.2.5 in /usr/local/lib/python3.6/dist-packages (2.2.5)\n",
            "Requirement already satisfied: six>=1.9.0 in /usr/local/lib/python3.6/dist-packages (from keras==2.2.5) (1.15.0)\n",
            "Requirement already satisfied: keras-applications>=1.0.8 in /tensorflow-1.15.2/python3.6 (from keras==2.2.5) (1.0.8)\n",
            "Requirement already satisfied: numpy>=1.9.1 in /usr/local/lib/python3.6/dist-packages (from keras==2.2.5) (1.19.5)\n",
            "Requirement already satisfied: scipy>=0.14 in /usr/local/lib/python3.6/dist-packages (from keras==2.2.5) (1.4.1)\n",
            "Requirement already satisfied: h5py in /usr/local/lib/python3.6/dist-packages (from keras==2.2.5) (2.10.0)\n",
            "Requirement already satisfied: keras-preprocessing>=1.1.0 in /usr/local/lib/python3.6/dist-packages (from keras==2.2.5) (1.1.2)\n",
            "Requirement already satisfied: pyyaml in /usr/local/lib/python3.6/dist-packages (from keras==2.2.5) (3.13)\n",
            "Requirement already satisfied: csbdeep in /usr/local/lib/python3.6/dist-packages (0.6.1)\n",
            "Requirement already satisfied: tifffile in /usr/local/lib/python3.6/dist-packages (from csbdeep) (2020.9.3)\n",
            "Requirement already satisfied: scipy in /usr/local/lib/python3.6/dist-packages (from csbdeep) (1.4.1)\n",
            "Requirement already satisfied: tqdm in /usr/local/lib/python3.6/dist-packages (from csbdeep) (4.41.1)\n",
            "Requirement already satisfied: matplotlib in /usr/local/lib/python3.6/dist-packages (from csbdeep) (3.2.2)\n",
            "Requirement already satisfied: numpy in /usr/local/lib/python3.6/dist-packages (from csbdeep) (1.19.5)\n",
            "Requirement already satisfied: keras<2.4,>=2.1.2 in /usr/local/lib/python3.6/dist-packages (from csbdeep) (2.2.5)\n",
            "Requirement already satisfied: h5py<3 in /usr/local/lib/python3.6/dist-packages (from csbdeep) (2.10.0)\n",
            "Requirement already satisfied: six in /usr/local/lib/python3.6/dist-packages (from csbdeep) (1.15.0)\n",
            "Requirement already satisfied: cycler>=0.10 in /usr/local/lib/python3.6/dist-packages (from matplotlib->csbdeep) (0.10.0)\n",
            "Requirement already satisfied: kiwisolver>=1.0.1 in /usr/local/lib/python3.6/dist-packages (from matplotlib->csbdeep) (1.3.1)\n",
            "Requirement already satisfied: pyparsing!=2.0.4,!=2.1.2,!=2.1.6,>=2.0.1 in /usr/local/lib/python3.6/dist-packages (from matplotlib->csbdeep) (2.4.7)\n",
            "Requirement already satisfied: python-dateutil>=2.1 in /usr/local/lib/python3.6/dist-packages (from matplotlib->csbdeep) (2.8.1)\n",
            "Requirement already satisfied: keras-applications>=1.0.8 in /tensorflow-1.15.2/python3.6 (from keras<2.4,>=2.1.2->csbdeep) (1.0.8)\n",
            "Requirement already satisfied: pyyaml in /usr/local/lib/python3.6/dist-packages (from keras<2.4,>=2.1.2->csbdeep) (3.13)\n",
            "Requirement already satisfied: keras-preprocessing>=1.1.0 in /usr/local/lib/python3.6/dist-packages (from keras<2.4,>=2.1.2->csbdeep) (1.1.2)\n",
            "Requirement already satisfied: stardist in /usr/local/lib/python3.6/dist-packages (0.6.1)\n",
            "Requirement already satisfied: numba in /usr/local/lib/python3.6/dist-packages (from stardist) (0.48.0)\n",
            "Requirement already satisfied: scikit-image in /usr/local/lib/python3.6/dist-packages (from stardist) (0.16.2)\n",
            "Requirement already satisfied: csbdeep>=0.6.0 in /usr/local/lib/python3.6/dist-packages (from stardist) (0.6.1)\n",
            "Requirement already satisfied: numpy>=1.15 in /usr/local/lib/python3.6/dist-packages (from numba->stardist) (1.19.5)\n",
            "Requirement already satisfied: setuptools in /usr/local/lib/python3.6/dist-packages (from numba->stardist) (51.3.3)\n",
            "Requirement already satisfied: llvmlite<0.32.0,>=0.31.0dev0 in /usr/local/lib/python3.6/dist-packages (from numba->stardist) (0.31.0)\n",
            "Requirement already satisfied: PyWavelets>=0.4.0 in /usr/local/lib/python3.6/dist-packages (from scikit-image->stardist) (1.1.1)\n",
            "Requirement already satisfied: pillow>=4.3.0 in /usr/local/lib/python3.6/dist-packages (from scikit-image->stardist) (7.0.0)\n",
            "Requirement already satisfied: matplotlib!=3.0.0,>=2.0.0 in /usr/local/lib/python3.6/dist-packages (from scikit-image->stardist) (3.2.2)\n",
            "Requirement already satisfied: networkx>=2.0 in /usr/local/lib/python3.6/dist-packages (from scikit-image->stardist) (2.5)\n",
            "Requirement already satisfied: scipy>=0.19.0 in /usr/local/lib/python3.6/dist-packages (from scikit-image->stardist) (1.4.1)\n",
            "Requirement already satisfied: imageio>=2.3.0 in /usr/local/lib/python3.6/dist-packages (from scikit-image->stardist) (2.4.1)\n",
            "Requirement already satisfied: tifffile in /usr/local/lib/python3.6/dist-packages (from csbdeep>=0.6.0->stardist) (2020.9.3)\n",
            "Requirement already satisfied: tqdm in /usr/local/lib/python3.6/dist-packages (from csbdeep>=0.6.0->stardist) (4.41.1)\n",
            "Requirement already satisfied: keras<2.4,>=2.1.2 in /usr/local/lib/python3.6/dist-packages (from csbdeep>=0.6.0->stardist) (2.2.5)\n",
            "Requirement already satisfied: six in /usr/local/lib/python3.6/dist-packages (from csbdeep>=0.6.0->stardist) (1.15.0)\n",
            "Requirement already satisfied: h5py<3 in /usr/local/lib/python3.6/dist-packages (from csbdeep>=0.6.0->stardist) (2.10.0)\n",
            "Requirement already satisfied: pyparsing!=2.0.4,!=2.1.2,!=2.1.6,>=2.0.1 in /usr/local/lib/python3.6/dist-packages (from matplotlib!=3.0.0,>=2.0.0->scikit-image->stardist) (2.4.7)\n",
            "Requirement already satisfied: cycler>=0.10 in /usr/local/lib/python3.6/dist-packages (from matplotlib!=3.0.0,>=2.0.0->scikit-image->stardist) (0.10.0)\n",
            "Requirement already satisfied: kiwisolver>=1.0.1 in /usr/local/lib/python3.6/dist-packages (from matplotlib!=3.0.0,>=2.0.0->scikit-image->stardist) (1.3.1)\n",
            "Requirement already satisfied: python-dateutil>=2.1 in /usr/local/lib/python3.6/dist-packages (from matplotlib!=3.0.0,>=2.0.0->scikit-image->stardist) (2.8.1)\n",
            "Requirement already satisfied: decorator>=4.3.0 in /usr/local/lib/python3.6/dist-packages (from networkx>=2.0->scikit-image->stardist) (4.4.2)\n",
            "Requirement already satisfied: keras-preprocessing>=1.1.0 in /usr/local/lib/python3.6/dist-packages (from keras<2.4,>=2.1.2->csbdeep>=0.6.0->stardist) (1.1.2)\n",
            "Requirement already satisfied: keras-applications>=1.0.8 in /tensorflow-1.15.2/python3.6 (from keras<2.4,>=2.1.2->csbdeep>=0.6.0->stardist) (1.0.8)\n",
            "Requirement already satisfied: pyyaml in /usr/local/lib/python3.6/dist-packages (from keras<2.4,>=2.1.2->csbdeep>=0.6.0->stardist) (3.13)\n",
            "Requirement already satisfied: gputools in /usr/local/lib/python3.6/dist-packages (0.2.9)\n",
            "Requirement already satisfied: configparser in /usr/local/lib/python3.6/dist-packages (from gputools) (5.0.1)\n",
            "Requirement already satisfied: scikit-tensor-py3; python_version >= \"3.0\" in /usr/local/lib/python3.6/dist-packages (from gputools) (0.4.1)\n",
            "Requirement already satisfied: reikna>=0.6.7 in /usr/local/lib/python3.6/dist-packages (from gputools) (0.7.5)\n",
            "Requirement already satisfied: scipy in /usr/local/lib/python3.6/dist-packages (from gputools) (1.4.1)\n",
            "Requirement already satisfied: pyopencl>=2016.1 in /usr/local/lib/python3.6/dist-packages (from gputools) (2020.3.1)\n",
            "Requirement already satisfied: numpy>=1.11.0 in /usr/local/lib/python3.6/dist-packages (from gputools) (1.19.5)\n",
            "Requirement already satisfied: funcsigs>=0.3 in /usr/local/lib/python3.6/dist-packages (from reikna>=0.6.7->gputools) (1.0.2)\n",
            "Requirement already satisfied: mako>=0.8.0 in /usr/local/lib/python3.6/dist-packages (from reikna>=0.6.7->gputools) (1.1.4)\n",
            "Requirement already satisfied: pytools>=2017.6 in /usr/local/lib/python3.6/dist-packages (from pyopencl>=2016.1->gputools) (2021.1)\n",
            "Requirement already satisfied: appdirs>=1.4.0 in /usr/local/lib/python3.6/dist-packages (from pyopencl>=2016.1->gputools) (1.4.4)\n",
            "Requirement already satisfied: decorator>=3.2.0 in /usr/local/lib/python3.6/dist-packages (from pyopencl>=2016.1->gputools) (4.4.2)\n",
            "Requirement already satisfied: MarkupSafe>=0.9.2 in /usr/local/lib/python3.6/dist-packages (from mako>=0.8.0->reikna>=0.6.7->gputools) (1.1.1)\n",
            "Requirement already satisfied: dataclasses>=0.7; python_version <= \"3.6\" in /usr/local/lib/python3.6/dist-packages (from pytools>=2017.6->pyopencl>=2016.1->gputools) (0.8)\n",
            "Requirement already satisfied: btrack in /usr/local/lib/python3.6/dist-packages (0.4.0)\n",
            "Requirement already satisfied: h5py>=2.10.0 in /usr/local/lib/python3.6/dist-packages (from btrack) (2.10.0)\n",
            "Requirement already satisfied: numpy>=1.17.3 in /usr/local/lib/python3.6/dist-packages (from btrack) (1.19.5)\n",
            "Requirement already satisfied: cvxopt>=1.2.0 in /usr/local/lib/python3.6/dist-packages (from btrack) (1.2.5)\n",
            "Requirement already satisfied: matplotlib>=3.1.1 in /usr/local/lib/python3.6/dist-packages (from btrack) (3.2.2)\n",
            "Requirement already satisfied: scipy>=1.3.1 in /usr/local/lib/python3.6/dist-packages (from btrack) (1.4.1)\n",
            "Requirement already satisfied: six in /usr/local/lib/python3.6/dist-packages (from h5py>=2.10.0->btrack) (1.15.0)\n",
            "Requirement already satisfied: python-dateutil>=2.1 in /usr/local/lib/python3.6/dist-packages (from matplotlib>=3.1.1->btrack) (2.8.1)\n",
            "Requirement already satisfied: kiwisolver>=1.0.1 in /usr/local/lib/python3.6/dist-packages (from matplotlib>=3.1.1->btrack) (1.3.1)\n",
            "Requirement already satisfied: cycler>=0.10 in /usr/local/lib/python3.6/dist-packages (from matplotlib>=3.1.1->btrack) (0.10.0)\n",
            "Requirement already satisfied: pyparsing!=2.0.4,!=2.1.2,!=2.1.6,>=2.0.1 in /usr/local/lib/python3.6/dist-packages (from matplotlib>=3.1.1->btrack) (2.4.7)\n"
          ],
          "name": "stdout"
        }
      ]
    },
    {
      "cell_type": "code",
      "metadata": {
        "colab": {
          "base_uri": "https://localhost:8080/"
        },
        "id": "wdSLVOKB3RtV",
        "outputId": "90aff09e-5109-4402-b659-93b5a35df9e8"
      },
      "source": [
        "%cd '/content/drive/My Drive/SmartSeeds/'\n",
        "import os\n",
        "import glob\n",
        "import sys\n",
        "sys.path.append('../')\n",
        "import glob\n",
        "from Utils import SmartSeeds2D\n",
        "from tifffile import imread, imwrite\n",
        "os.environ[\"HDF5_USE_FILE_LOCKING\"] = \"FALSE\""
      ],
      "execution_count": 3,
      "outputs": [
        {
          "output_type": "stream",
          "text": [
            "/content/drive/My Drive/SmartSeeds\n"
          ],
          "name": "stdout"
        },
        {
          "output_type": "stream",
          "text": [
            "Using TensorFlow backend.\n"
          ],
          "name": "stderr"
        }
      ]
    },
    {
      "cell_type": "markdown",
      "metadata": {
        "id": "t5BEu4KY3RtV"
      },
      "source": [
        "# In the cell below specify the following:\n",
        "\n",
        "1) Directory where the training data is, inside this directory there should be the two subfolders called Raw and Mask. Inside the Raw folder are the raw images and inside the Mask folder are the labelled images.\n",
        "\n",
        "2) The training data for doing UNET training is stored in NPZ format so please specify the NPZ filename which is suitable for your data.\n",
        "\n",
        "3) Model directory is where the trained Neural network models are stored, please chooose a location if you want to change the default location which is where the training data is.\n",
        "\n",
        "4) Copy Model name is optional, in case you have a previouis trained model and want to re-train it on new data but store it with a new name.\n",
        "\n",
        "5) Model name is the unique name of the trained models."
      ]
    },
    {
      "cell_type": "code",
      "metadata": {
        "id": "tHxQs6mE3RtV"
      },
      "source": [
        "Data_dir = '/content/drive/My Drive/FMIChallenge/'\n",
        "NPZ_filename = 'FMINuclei'\n",
        "Model_dir = Data_dir\n",
        "Model_Name = 'FMINuclei'\n"
      ],
      "execution_count": 4,
      "outputs": []
    },
    {
      "cell_type": "markdown",
      "metadata": {
        "id": "yDBTWsFO3RtV"
      },
      "source": [
        "# In this cell choose the network training parameters for the Neural Network\n",
        "\n",
        "1) NetworkDepth = Depth of the network, with each increasing depth the image is downsampled by 2 hence the XY dimension of the data / 2^depth has to be greater than 1.\n",
        "\n",
        "2) Epochs, training for longer epochs ensures a well converged network and requires longer GPU runtimes.\n",
        "\n",
        "3) Learning rate is the parameter which controls the step size used in the optimization process and it should not be greater than 0.001 at the start of the training.\n",
        "\n",
        "4) batch size controls the number of images used for doing stochastic gradient descent and is a parameter that is limited by the GPU RAM available, if you do not have a lot of ran batch size < 10 should be optimal. \n",
        "\n",
        "5) PatchX,Y is the patch size used for making patches out of the iamge data. The original image is broken down into patches for training. Patch size is chosen based on having enough context for the network to learn but at the same time not being too big to obscure memory usage.\n",
        "\n",
        "6) Kernel is the receptive field of the neural network, usual choices are 3,5 or 7 but not larger than that. This is the size of the convolutional kernel used in the network\n",
        "\n",
        "7) n_patches_per_image is the number of patches sampled for each image to create the npz file, choose an optimal value so that the file is not too big for the computer memory. \n",
        "\n",
        "8) Rays is the number of rays used the learn the distance map, low rays decreases the spatial resoultion and high rays are able to resolve the shape better.\n",
        "\n",
        "\n",
        "9) OpenCL is a boolean parameter that is set true if you want to do some opencl computations on the GPU, this requires GPU tools but if you do not have them set this to false.\n",
        "\n",
        "Some optimal values have been chosen by default and should work well for any NVDIA enabled GPU computer"
      ]
    },
    {
      "cell_type": "code",
      "metadata": {
        "id": "kueVXEV_3RtW"
      },
      "source": [
        "#Network training parameters\n",
        "NetworkDepth = 5\n",
        "Epochs = 50\n",
        "LearningRate = 1.0E-4\n",
        "batch_size = 1\n",
        "PatchX = 512\n",
        "PatchY = 512\n",
        "Kernel = 3\n",
        "DownsampleFactor = 1\n",
        "n_patches_per_image = 16\n",
        "Rays = 128\n",
        "use_gpu_opencl = True\n",
        "GenerateNPZ = False\n",
        "TrainUNET = True\n",
        "TrainSTAR = True\n",
        "grid = (2,2)"
      ],
      "execution_count": 5,
      "outputs": []
    },
    {
      "cell_type": "code",
      "metadata": {
        "colab": {
          "base_uri": "https://localhost:8080/"
        },
        "id": "5WR_cz_s3RtW",
        "outputId": "6c7a3fb4-6ba6-430b-9c50-207368f5912f"
      },
      "source": [
        "\n",
        "model = SmartSeeds2D(BaseDir = Data_dir, NPZfilename = NPZ_filename, model_name = Model_Name, model_dir = Model_dir, n_patches_per_image = n_patches_per_image, DownsampleFactor = DownsampleFactor, GenerateNPZ = GenerateNPZ,TrainUNET = TrainUNET, TrainSTAR = TrainSTAR, grid = grid, PatchX= PatchX, PatchY= PatchY,  use_gpu = use_gpu_opencl,  batch_size = batch_size, depth = NetworkDepth, kern_size = Kernel, n_rays = Rays, epochs = Epochs, learning_rate = LearningRate)"
      ],
      "execution_count": 6,
      "outputs": [
        {
          "output_type": "stream",
          "text": [
            "100%|██████████| 12/12 [00:00<00:00, 164.30it/s]\n",
            "  0%|          | 0/12 [00:00<?, ?it/s]"
          ],
          "name": "stderr"
        },
        {
          "output_type": "stream",
          "text": [
            "Instance segmentation masks: 12\n",
            "Semantic segmentation masks: 12\n",
            "Training StarDistModel model\n"
          ],
          "name": "stdout"
        },
        {
          "output_type": "stream",
          "text": [
            "\r100%|██████████| 12/12 [00:00<00:00, 220.64it/s]"
          ],
          "name": "stderr"
        },
        {
          "output_type": "stream",
          "text": [
            "12\n",
            "number of images:  12\n",
            "- training:        10\n",
            "- validation:       2\n",
            "Configuration for a :class:`StarDist2D` model.\n",
            "\n",
            "    Parameters\n",
            "    ----------\n",
            "    axes : str or None\n",
            "        Axes of the input images.\n",
            "    n_rays : int\n",
            "        Number of radial directions for the star-convex polygon.\n",
            "        Recommended to use a power of 2 (default: 32).\n",
            "    n_channel_in : int\n",
            "        Number of channels of given input image (default: 1).\n",
            "    grid : (int,int)\n",
            "        Subsampling factors (must be powers of 2) for each of the axes.\n",
            "        Model will predict on a subsampled grid for increased efficiency and larger field of view.\n",
            "    backbone : str\n",
            "        Name of the neural network architecture to be used as backbone.\n",
            "    kwargs : dict\n",
            "        Overwrite (or add) configuration attributes (see below).\n",
            "\n",
            "\n",
            "    Attributes\n",
            "    ----------\n",
            "    unet_n_depth : int\n",
            "        Number of U-Net resolution levels (down/up-sampling layers).\n",
            "    unet_kernel_size : (int,int)\n",
            "        Convolution kernel size for all (U-Net) convolution layers.\n",
            "    unet_n_filter_base : int\n",
            "        Number of convolution kernels (feature channels) for first U-Net layer.\n",
            "        Doubled after each down-sampling layer.\n",
            "    unet_pool : (int,int)\n",
            "        Maxpooling size for all (U-Net) convolution layers.\n",
            "    net_conv_after_unet : int\n",
            "        Number of filters of the extra convolution layer after U-Net (0 to disable).\n",
            "    unet_* : *\n",
            "        Additional parameters for U-net backbone.\n",
            "    train_shape_completion : bool\n",
            "        Train model to predict complete shapes for partially visible objects at image boundary.\n",
            "    train_completion_crop : int\n",
            "        If 'train_shape_completion' is set to True, specify number of pixels to crop at boundary of training patches.\n",
            "        Should be chosen based on (largest) object sizes.\n",
            "    train_patch_size : (int,int)\n",
            "        Size of patches to be cropped from provided training images.\n",
            "    train_background_reg : float\n",
            "        Regularizer to encourage distance predictions on background regions to be 0.\n",
            "    train_foreground_only : float\n",
            "        Fraction (0..1) of patches that will only be sampled from regions that contain foreground pixels.\n",
            "    train_dist_loss : str\n",
            "        Training loss for star-convex polygon distances ('mse' or 'mae').\n",
            "    train_loss_weights : tuple of float\n",
            "        Weights for losses relating to (probability, distance)\n",
            "    train_epochs : int\n",
            "        Number of training epochs.\n",
            "    train_steps_per_epoch : int\n",
            "        Number of parameter update steps per epoch.\n",
            "    train_learning_rate : float\n",
            "        Learning rate for training.\n",
            "    train_batch_size : int\n",
            "        Batch size for training.\n",
            "    train_n_val_patches : int\n",
            "        Number of patches to be extracted from validation images (``None`` = one patch per image).\n",
            "    train_tensorboard : bool\n",
            "        Enable TensorBoard for monitoring training progress.\n",
            "    train_reduce_lr : dict\n",
            "        Parameter :class:`dict` of ReduceLROnPlateau_ callback; set to ``None`` to disable.\n",
            "    use_gpu : bool\n",
            "        Indicate that the data generator should use OpenCL to do computations on the GPU.\n",
            "\n",
            "        .. _ReduceLROnPlateau: https://keras.io/callbacks/#reducelronplateau\n",
            "    \n",
            "Config2D(axes='YXC', backbone='unet', grid=(2, 2), n_channel_in=1, n_channel_out=129, n_dim=2, n_rays=128, net_conv_after_unet=128, net_input_shape=(None, None, 1), net_mask_shape=(None, None, 1), train_background_reg=0.0001, train_batch_size=4, train_checkpoint='/content/drive/My Drive/FMIChallenge/FMINuclei.h5', train_checkpoint_epoch='weights_now.h5', train_checkpoint_last='weights_last.h5', train_completion_crop=32, train_dist_loss='mae', train_epochs=50, train_foreground_only=0.9, train_learning_rate=0.0001, train_loss_weights=(1, 0.05), train_n_val_patches=None, train_patch_size=(512, 512), train_reduce_lr={'factor': 0.5, 'patience': 40, 'min_delta': 0}, train_shape_completion=False, train_steps_per_epoch=100, train_tensorboard=True, unet_activation='relu', unet_batch_norm=False, unet_dropout=0.0, unet_kernel_size=(3, 3), unet_last_activation='relu', unet_n_conv_per_depth=2, unet_n_depth=5, unet_n_filter_base=48, unet_pool=(2, 2), unet_prefix='', use_gpu=True)\n",
            "WARNING:tensorflow:From /usr/local/lib/python3.6/dist-packages/keras/backend/tensorflow_backend.py:541: The name tf.placeholder is deprecated. Please use tf.compat.v1.placeholder instead.\n",
            "\n",
            "WARNING:tensorflow:From /usr/local/lib/python3.6/dist-packages/keras/backend/tensorflow_backend.py:66: The name tf.get_default_graph is deprecated. Please use tf.compat.v1.get_default_graph instead.\n",
            "\n",
            "WARNING:tensorflow:From /usr/local/lib/python3.6/dist-packages/keras/backend/tensorflow_backend.py:4432: The name tf.random_uniform is deprecated. Please use tf.random.uniform instead.\n",
            "\n",
            "WARNING:tensorflow:From /usr/local/lib/python3.6/dist-packages/keras/backend/tensorflow_backend.py:4267: The name tf.nn.max_pool is deprecated. Please use tf.nn.max_pool2d instead.\n",
            "\n"
          ],
          "name": "stdout"
        },
        {
          "output_type": "stream",
          "text": [
            "\n",
            "/usr/local/lib/python3.6/dist-packages/csbdeep/models/base_model.py:148: UserWarning: output path for model already exists, files may be overwritten: /content/drive/My Drive/FMIChallenge/FMINuclei\n",
            "  warnings.warn('output path for model already exists, files may be overwritten: %s' % str(self.logdir.resolve()))\n"
          ],
          "name": "stderr"
        },
        {
          "output_type": "stream",
          "text": [
            "WARNING:tensorflow:From /usr/local/lib/python3.6/dist-packages/keras/backend/tensorflow_backend.py:2239: The name tf.image.resize_nearest_neighbor is deprecated. Please use tf.compat.v1.image.resize_nearest_neighbor instead.\n",
            "\n",
            "Using default values: prob_thresh=0.5, nms_thresh=0.4.\n",
            "WARNING:tensorflow:From /usr/local/lib/python3.6/dist-packages/keras/optimizers.py:793: The name tf.train.Optimizer is deprecated. Please use tf.compat.v1.train.Optimizer instead.\n",
            "\n",
            "WARNING:tensorflow:From /usr/local/lib/python3.6/dist-packages/keras/backend/tensorflow_backend.py:3657: The name tf.log is deprecated. Please use tf.math.log instead.\n",
            "\n",
            "WARNING:tensorflow:From /tensorflow-1.15.2/python3.6/tensorflow_core/python/ops/nn_impl.py:183: where (from tensorflow.python.ops.array_ops) is deprecated and will be removed in a future version.\n",
            "Instructions for updating:\n",
            "Use tf.where in 2.0, which has the same broadcast rule as np.where\n",
            "WARNING:tensorflow:From /usr/local/lib/python3.6/dist-packages/keras/backend/tensorflow_backend.py:1033: The name tf.assign_add is deprecated. Please use tf.compat.v1.assign_add instead.\n",
            "\n"
          ],
          "name": "stdout"
        },
        {
          "output_type": "stream",
          "text": [
            "WARNING:tensorflow | From /usr/local/lib/python3.6/dist-packages/keras/backend/tensorflow_backend.py:1033: The name tf.assign_add is deprecated. Please use tf.compat.v1.assign_add instead.\n",
            "\n"
          ],
          "name": "stderr"
        },
        {
          "output_type": "stream",
          "text": [
            "WARNING:tensorflow:From /usr/local/lib/python3.6/dist-packages/keras/backend/tensorflow_backend.py:1020: The name tf.assign is deprecated. Please use tf.compat.v1.assign instead.\n",
            "\n"
          ],
          "name": "stdout"
        },
        {
          "output_type": "stream",
          "text": [
            "WARNING:tensorflow | From /usr/local/lib/python3.6/dist-packages/keras/backend/tensorflow_backend.py:1020: The name tf.assign is deprecated. Please use tf.compat.v1.assign instead.\n",
            "\n"
          ],
          "name": "stderr"
        },
        {
          "output_type": "stream",
          "text": [
            "WARNING:tensorflow:From /usr/local/lib/python3.6/dist-packages/keras/backend/tensorflow_backend.py:3005: The name tf.Session is deprecated. Please use tf.compat.v1.Session instead.\n",
            "\n"
          ],
          "name": "stdout"
        },
        {
          "output_type": "stream",
          "text": [
            "WARNING:tensorflow | From /usr/local/lib/python3.6/dist-packages/keras/backend/tensorflow_backend.py:3005: The name tf.Session is deprecated. Please use tf.compat.v1.Session instead.\n",
            "\n"
          ],
          "name": "stderr"
        },
        {
          "output_type": "stream",
          "text": [
            "WARNING:tensorflow:From /usr/local/lib/python3.6/dist-packages/keras/backend/tensorflow_backend.py:190: The name tf.get_default_session is deprecated. Please use tf.compat.v1.get_default_session instead.\n",
            "\n"
          ],
          "name": "stdout"
        },
        {
          "output_type": "stream",
          "text": [
            "WARNING:tensorflow | From /usr/local/lib/python3.6/dist-packages/keras/backend/tensorflow_backend.py:190: The name tf.get_default_session is deprecated. Please use tf.compat.v1.get_default_session instead.\n",
            "\n"
          ],
          "name": "stderr"
        },
        {
          "output_type": "stream",
          "text": [
            "WARNING:tensorflow:From /usr/local/lib/python3.6/dist-packages/keras/backend/tensorflow_backend.py:197: The name tf.ConfigProto is deprecated. Please use tf.compat.v1.ConfigProto instead.\n",
            "\n"
          ],
          "name": "stdout"
        },
        {
          "output_type": "stream",
          "text": [
            "WARNING:tensorflow | From /usr/local/lib/python3.6/dist-packages/keras/backend/tensorflow_backend.py:197: The name tf.ConfigProto is deprecated. Please use tf.compat.v1.ConfigProto instead.\n",
            "\n"
          ],
          "name": "stderr"
        },
        {
          "output_type": "stream",
          "text": [
            "WARNING:tensorflow:From /usr/local/lib/python3.6/dist-packages/keras/backend/tensorflow_backend.py:207: The name tf.global_variables is deprecated. Please use tf.compat.v1.global_variables instead.\n",
            "\n"
          ],
          "name": "stdout"
        },
        {
          "output_type": "stream",
          "text": [
            "WARNING:tensorflow | From /usr/local/lib/python3.6/dist-packages/keras/backend/tensorflow_backend.py:207: The name tf.global_variables is deprecated. Please use tf.compat.v1.global_variables instead.\n",
            "\n"
          ],
          "name": "stderr"
        },
        {
          "output_type": "stream",
          "text": [
            "WARNING:tensorflow:From /usr/local/lib/python3.6/dist-packages/keras/backend/tensorflow_backend.py:216: The name tf.is_variable_initialized is deprecated. Please use tf.compat.v1.is_variable_initialized instead.\n",
            "\n"
          ],
          "name": "stdout"
        },
        {
          "output_type": "stream",
          "text": [
            "WARNING:tensorflow | From /usr/local/lib/python3.6/dist-packages/keras/backend/tensorflow_backend.py:216: The name tf.is_variable_initialized is deprecated. Please use tf.compat.v1.is_variable_initialized instead.\n",
            "\n"
          ],
          "name": "stderr"
        },
        {
          "output_type": "stream",
          "text": [
            "WARNING:tensorflow:From /usr/local/lib/python3.6/dist-packages/keras/backend/tensorflow_backend.py:223: The name tf.variables_initializer is deprecated. Please use tf.compat.v1.variables_initializer instead.\n",
            "\n"
          ],
          "name": "stdout"
        },
        {
          "output_type": "stream",
          "text": [
            "WARNING:tensorflow | From /usr/local/lib/python3.6/dist-packages/keras/backend/tensorflow_backend.py:223: The name tf.variables_initializer is deprecated. Please use tf.compat.v1.variables_initializer instead.\n",
            "\n"
          ],
          "name": "stderr"
        },
        {
          "output_type": "stream",
          "text": [
            "WARNING:tensorflow:\n",
            "The TensorFlow contrib module will not be included in TensorFlow 2.0.\n",
            "For more information, please see:\n",
            "  * https://github.com/tensorflow/community/blob/master/rfcs/20180907-contrib-sunset.md\n",
            "  * https://github.com/tensorflow/addons\n",
            "  * https://github.com/tensorflow/io (for I/O related ops)\n",
            "If you depend on functionality not listed there, please file an issue.\n",
            "\n"
          ],
          "name": "stdout"
        },
        {
          "output_type": "stream",
          "text": [
            "WARNING:tensorflow | \n",
            "The TensorFlow contrib module will not be included in TensorFlow 2.0.\n",
            "For more information, please see:\n",
            "  * https://github.com/tensorflow/community/blob/master/rfcs/20180907-contrib-sunset.md\n",
            "  * https://github.com/tensorflow/addons\n",
            "  * https://github.com/tensorflow/io (for I/O related ops)\n",
            "If you depend on functionality not listed there, please file an issue.\n",
            "\n"
          ],
          "name": "stderr"
        },
        {
          "output_type": "stream",
          "text": [
            "WARNING:tensorflow:From /usr/local/lib/python3.6/dist-packages/csbdeep/utils/tf.py:309: The name tf.summary.image is deprecated. Please use tf.compat.v1.summary.image instead.\n",
            "\n"
          ],
          "name": "stdout"
        },
        {
          "output_type": "stream",
          "text": [
            "WARNING:tensorflow | From /usr/local/lib/python3.6/dist-packages/csbdeep/utils/tf.py:309: The name tf.summary.image is deprecated. Please use tf.compat.v1.summary.image instead.\n",
            "\n"
          ],
          "name": "stderr"
        },
        {
          "output_type": "stream",
          "text": [
            "WARNING:tensorflow:From /usr/local/lib/python3.6/dist-packages/csbdeep/utils/tf.py:337: The name tf.summary.merge is deprecated. Please use tf.compat.v1.summary.merge instead.\n",
            "\n"
          ],
          "name": "stdout"
        },
        {
          "output_type": "stream",
          "text": [
            "WARNING:tensorflow | From /usr/local/lib/python3.6/dist-packages/csbdeep/utils/tf.py:337: The name tf.summary.merge is deprecated. Please use tf.compat.v1.summary.merge instead.\n",
            "\n"
          ],
          "name": "stderr"
        },
        {
          "output_type": "stream",
          "text": [
            "WARNING:tensorflow:From /usr/local/lib/python3.6/dist-packages/csbdeep/utils/tf.py:344: The name tf.summary.FileWriter is deprecated. Please use tf.compat.v1.summary.FileWriter instead.\n",
            "\n"
          ],
          "name": "stdout"
        },
        {
          "output_type": "stream",
          "text": [
            "WARNING:tensorflow | From /usr/local/lib/python3.6/dist-packages/csbdeep/utils/tf.py:344: The name tf.summary.FileWriter is deprecated. Please use tf.compat.v1.summary.FileWriter instead.\n",
            "\n"
          ],
          "name": "stderr"
        },
        {
          "output_type": "stream",
          "text": [
            "Epoch 1/50\n",
            "100/100 [==============================] - 44s 445ms/step - loss: 1.9666 - prob_loss: 0.4893 - dist_loss: 29.5463 - prob_kld: 0.2302 - dist_relevant_mae: 29.5463 - dist_relevant_mse: 1162.7620 - val_loss: 1.8858 - val_prob_loss: 0.3486 - val_dist_loss: 30.7447 - val_prob_kld: 0.0797 - val_dist_relevant_mae: 30.7446 - val_dist_relevant_mse: 1263.9186\n",
            "WARNING:tensorflow:From /usr/local/lib/python3.6/dist-packages/csbdeep/utils/tf.py:372: The name tf.Summary is deprecated. Please use tf.compat.v1.Summary instead.\n",
            "\n"
          ],
          "name": "stdout"
        },
        {
          "output_type": "stream",
          "text": [
            "WARNING:tensorflow | From /usr/local/lib/python3.6/dist-packages/csbdeep/utils/tf.py:372: The name tf.Summary is deprecated. Please use tf.compat.v1.Summary instead.\n",
            "\n"
          ],
          "name": "stderr"
        },
        {
          "output_type": "stream",
          "text": [
            "Epoch 2/50\n",
            "100/100 [==============================] - 39s 388ms/step - loss: 1.5868 - prob_loss: 0.3675 - dist_loss: 24.3855 - prob_kld: 0.1084 - dist_relevant_mae: 24.3847 - dist_relevant_mse: 886.5621 - val_loss: 1.2465 - val_prob_loss: 0.3799 - val_dist_loss: 17.3320 - val_prob_kld: 0.1110 - val_dist_relevant_mae: 17.3304 - val_dist_relevant_mse: 521.4189\n",
            "Epoch 3/50\n",
            "100/100 [==============================] - 42s 419ms/step - loss: 1.0125 - prob_loss: 0.3309 - dist_loss: 13.6325 - prob_kld: 0.0718 - dist_relevant_mae: 13.6303 - dist_relevant_mse: 322.5327 - val_loss: 0.9940 - val_prob_loss: 0.3268 - val_dist_loss: 13.3438 - val_prob_kld: 0.0579 - val_dist_relevant_mae: 13.3420 - val_dist_relevant_mse: 325.6061\n",
            "Epoch 4/50\n",
            "100/100 [==============================] - 42s 419ms/step - loss: 0.9044 - prob_loss: 0.2978 - dist_loss: 12.1310 - prob_kld: 0.0388 - dist_relevant_mae: 12.1293 - dist_relevant_mse: 266.9265 - val_loss: 0.9413 - val_prob_loss: 0.3097 - val_dist_loss: 12.6326 - val_prob_kld: 0.0408 - val_dist_relevant_mae: 12.6312 - val_dist_relevant_mse: 306.8220\n",
            "Epoch 5/50\n",
            "100/100 [==============================] - 42s 420ms/step - loss: 0.8710 - prob_loss: 0.2840 - dist_loss: 11.7412 - prob_kld: 0.0249 - dist_relevant_mae: 11.7398 - dist_relevant_mse: 264.2872 - val_loss: 0.9270 - val_prob_loss: 0.2991 - val_dist_loss: 12.5575 - val_prob_kld: 0.0303 - val_dist_relevant_mae: 12.5564 - val_dist_relevant_mse: 322.7333\n",
            "Epoch 6/50\n",
            "100/100 [==============================] - 42s 419ms/step - loss: 0.8505 - prob_loss: 0.2823 - dist_loss: 11.3644 - prob_kld: 0.0232 - dist_relevant_mae: 11.3632 - dist_relevant_mse: 258.5943 - val_loss: 0.8770 - val_prob_loss: 0.2957 - val_dist_loss: 11.6248 - val_prob_kld: 0.0268 - val_dist_relevant_mae: 11.6237 - val_dist_relevant_mse: 294.1602\n",
            "Epoch 7/50\n",
            "100/100 [==============================] - 42s 419ms/step - loss: 0.7408 - prob_loss: 0.2844 - dist_loss: 9.1270 - prob_kld: 0.0254 - dist_relevant_mae: 9.1257 - dist_relevant_mse: 185.1202 - val_loss: 0.7322 - val_prob_loss: 0.3201 - val_dist_loss: 8.2427 - val_prob_kld: 0.0512 - val_dist_relevant_mae: 8.2412 - val_dist_relevant_mse: 153.6927\n",
            "Epoch 8/50\n",
            "100/100 [==============================] - 42s 422ms/step - loss: 0.6066 - prob_loss: 0.2767 - dist_loss: 6.5971 - prob_kld: 0.0176 - dist_relevant_mae: 6.5956 - dist_relevant_mse: 105.1409 - val_loss: 0.6604 - val_prob_loss: 0.2896 - val_dist_loss: 7.4166 - val_prob_kld: 0.0207 - val_dist_relevant_mae: 7.4152 - val_dist_relevant_mse: 133.9827\n",
            "Epoch 9/50\n",
            "100/100 [==============================] - 42s 422ms/step - loss: 0.5684 - prob_loss: 0.2758 - dist_loss: 5.8527 - prob_kld: 0.0167 - dist_relevant_mae: 5.8511 - dist_relevant_mse: 87.2641 - val_loss: 0.6327 - val_prob_loss: 0.3029 - val_dist_loss: 6.5957 - val_prob_kld: 0.0340 - val_dist_relevant_mae: 6.5942 - val_dist_relevant_mse: 106.2129\n",
            "Epoch 10/50\n",
            "100/100 [==============================] - 42s 423ms/step - loss: 0.5534 - prob_loss: 0.2670 - dist_loss: 5.7286 - prob_kld: 0.0079 - dist_relevant_mae: 5.7271 - dist_relevant_mse: 83.7859 - val_loss: 0.6081 - val_prob_loss: 0.2823 - val_dist_loss: 6.5156 - val_prob_kld: 0.0134 - val_dist_relevant_mae: 6.5139 - val_dist_relevant_mse: 98.3262\n",
            "Epoch 11/50\n",
            "100/100 [==============================] - 42s 420ms/step - loss: 0.5372 - prob_loss: 0.2654 - dist_loss: 5.4359 - prob_kld: 0.0063 - dist_relevant_mae: 5.4344 - dist_relevant_mse: 78.5443 - val_loss: 0.6201 - val_prob_loss: 0.2911 - val_dist_loss: 6.5798 - val_prob_kld: 0.0223 - val_dist_relevant_mae: 6.5784 - val_dist_relevant_mse: 108.0666\n",
            "Epoch 12/50\n",
            "100/100 [==============================] - 42s 420ms/step - loss: 0.5297 - prob_loss: 0.2656 - dist_loss: 5.2809 - prob_kld: 0.0065 - dist_relevant_mae: 5.2794 - dist_relevant_mse: 76.1202 - val_loss: 0.5969 - val_prob_loss: 0.2835 - val_dist_loss: 6.2695 - val_prob_kld: 0.0146 - val_dist_relevant_mae: 6.2680 - val_dist_relevant_mse: 98.2136\n",
            "Epoch 13/50\n",
            "100/100 [==============================] - 42s 420ms/step - loss: 0.5200 - prob_loss: 0.2650 - dist_loss: 5.1002 - prob_kld: 0.0059 - dist_relevant_mae: 5.0988 - dist_relevant_mse: 73.0039 - val_loss: 0.5880 - val_prob_loss: 0.2833 - val_dist_loss: 6.0940 - val_prob_kld: 0.0145 - val_dist_relevant_mae: 6.0925 - val_dist_relevant_mse: 94.9684\n",
            "Epoch 14/50\n",
            "100/100 [==============================] - 42s 420ms/step - loss: 0.5110 - prob_loss: 0.2661 - dist_loss: 4.8970 - prob_kld: 0.0070 - dist_relevant_mae: 4.8956 - dist_relevant_mse: 69.4133 - val_loss: 0.5862 - val_prob_loss: 0.2846 - val_dist_loss: 6.0329 - val_prob_kld: 0.0157 - val_dist_relevant_mae: 6.0315 - val_dist_relevant_mse: 93.0242\n",
            "Epoch 15/50\n",
            "100/100 [==============================] - 42s 424ms/step - loss: 0.5096 - prob_loss: 0.2692 - dist_loss: 4.8070 - prob_kld: 0.0102 - dist_relevant_mae: 4.8056 - dist_relevant_mse: 65.8491 - val_loss: 0.5648 - val_prob_loss: 0.2849 - val_dist_loss: 5.5986 - val_prob_kld: 0.0160 - val_dist_relevant_mae: 5.5972 - val_dist_relevant_mse: 80.6808\n",
            "Epoch 16/50\n",
            "100/100 [==============================] - 42s 420ms/step - loss: 0.4763 - prob_loss: 0.2686 - dist_loss: 4.1538 - prob_kld: 0.0095 - dist_relevant_mae: 4.1524 - dist_relevant_mse: 54.3953 - val_loss: 0.5408 - val_prob_loss: 0.2892 - val_dist_loss: 5.0326 - val_prob_kld: 0.0203 - val_dist_relevant_mae: 5.0312 - val_dist_relevant_mse: 69.0298\n",
            "Epoch 17/50\n",
            "100/100 [==============================] - 42s 422ms/step - loss: 0.4434 - prob_loss: 0.2660 - dist_loss: 3.5478 - prob_kld: 0.0070 - dist_relevant_mae: 3.5464 - dist_relevant_mse: 43.2508 - val_loss: 0.5246 - val_prob_loss: 0.2918 - val_dist_loss: 4.6568 - val_prob_kld: 0.0229 - val_dist_relevant_mae: 4.6554 - val_dist_relevant_mse: 62.0554\n",
            "Epoch 18/50\n",
            "100/100 [==============================] - 42s 422ms/step - loss: 0.4545 - prob_loss: 0.2745 - dist_loss: 3.5998 - prob_kld: 0.0154 - dist_relevant_mae: 3.5984 - dist_relevant_mse: 41.9427 - val_loss: 0.5181 - val_prob_loss: 0.2827 - val_dist_loss: 4.7070 - val_prob_kld: 0.0139 - val_dist_relevant_mae: 4.7055 - val_dist_relevant_mse: 58.1870\n",
            "Epoch 19/50\n",
            "100/100 [==============================] - 42s 422ms/step - loss: 0.4322 - prob_loss: 0.2633 - dist_loss: 3.3785 - prob_kld: 0.0042 - dist_relevant_mae: 3.3771 - dist_relevant_mse: 38.6433 - val_loss: 0.5032 - val_prob_loss: 0.2823 - val_dist_loss: 4.4168 - val_prob_kld: 0.0135 - val_dist_relevant_mae: 4.4154 - val_dist_relevant_mse: 55.5799\n",
            "Epoch 20/50\n",
            "100/100 [==============================] - 42s 420ms/step - loss: 0.4279 - prob_loss: 0.2627 - dist_loss: 3.3047 - prob_kld: 0.0036 - dist_relevant_mae: 3.3033 - dist_relevant_mse: 37.2965 - val_loss: 0.5046 - val_prob_loss: 0.2863 - val_dist_loss: 4.3657 - val_prob_kld: 0.0174 - val_dist_relevant_mae: 4.3642 - val_dist_relevant_mse: 54.2316\n",
            "Epoch 21/50\n",
            "100/100 [==============================] - 42s 419ms/step - loss: 0.4342 - prob_loss: 0.2650 - dist_loss: 3.3837 - prob_kld: 0.0060 - dist_relevant_mae: 3.3823 - dist_relevant_mse: 37.3173 - val_loss: 0.4916 - val_prob_loss: 0.2812 - val_dist_loss: 4.2078 - val_prob_kld: 0.0123 - val_dist_relevant_mae: 4.2064 - val_dist_relevant_mse: 52.8818\n",
            "Epoch 22/50\n",
            "100/100 [==============================] - 42s 421ms/step - loss: 0.4181 - prob_loss: 0.2626 - dist_loss: 3.1115 - prob_kld: 0.0035 - dist_relevant_mae: 3.1102 - dist_relevant_mse: 34.5606 - val_loss: 0.4880 - val_prob_loss: 0.2811 - val_dist_loss: 4.1377 - val_prob_kld: 0.0123 - val_dist_relevant_mae: 4.1363 - val_dist_relevant_mse: 49.6169\n",
            "Epoch 23/50\n",
            "100/100 [==============================] - 42s 422ms/step - loss: 0.4163 - prob_loss: 0.2659 - dist_loss: 3.0087 - prob_kld: 0.0068 - dist_relevant_mae: 3.0073 - dist_relevant_mse: 33.1835 - val_loss: 0.4908 - val_prob_loss: 0.2833 - val_dist_loss: 4.1496 - val_prob_kld: 0.0144 - val_dist_relevant_mae: 4.1482 - val_dist_relevant_mse: 50.1679\n",
            "Epoch 24/50\n",
            "100/100 [==============================] - 42s 420ms/step - loss: 0.4097 - prob_loss: 0.2632 - dist_loss: 2.9299 - prob_kld: 0.0042 - dist_relevant_mae: 2.9285 - dist_relevant_mse: 31.7475 - val_loss: 0.4986 - val_prob_loss: 0.2960 - val_dist_loss: 4.0522 - val_prob_kld: 0.0271 - val_dist_relevant_mae: 4.0508 - val_dist_relevant_mse: 48.4826\n",
            "Epoch 25/50\n",
            "100/100 [==============================] - 42s 420ms/step - loss: 0.4078 - prob_loss: 0.2678 - dist_loss: 2.7990 - prob_kld: 0.0087 - dist_relevant_mae: 2.7976 - dist_relevant_mse: 29.9201 - val_loss: 0.4865 - val_prob_loss: 0.2840 - val_dist_loss: 4.0505 - val_prob_kld: 0.0151 - val_dist_relevant_mae: 4.0491 - val_dist_relevant_mse: 46.8289\n",
            "Epoch 26/50\n",
            "100/100 [==============================] - 42s 420ms/step - loss: 0.3973 - prob_loss: 0.2633 - dist_loss: 2.6804 - prob_kld: 0.0042 - dist_relevant_mae: 2.6790 - dist_relevant_mse: 27.8893 - val_loss: 0.4844 - val_prob_loss: 0.2823 - val_dist_loss: 4.0433 - val_prob_kld: 0.0134 - val_dist_relevant_mae: 4.0419 - val_dist_relevant_mse: 47.9038\n",
            "Epoch 27/50\n",
            "100/100 [==============================] - 42s 420ms/step - loss: 0.4127 - prob_loss: 0.2674 - dist_loss: 2.9050 - prob_kld: 0.0084 - dist_relevant_mae: 2.9036 - dist_relevant_mse: 29.1081 - val_loss: 0.4535 - val_prob_loss: 0.2801 - val_dist_loss: 3.4673 - val_prob_kld: 0.0113 - val_dist_relevant_mae: 3.4658 - val_dist_relevant_mse: 38.6460\n",
            "Epoch 28/50\n",
            "100/100 [==============================] - 42s 423ms/step - loss: 0.3970 - prob_loss: 0.2673 - dist_loss: 2.5951 - prob_kld: 0.0082 - dist_relevant_mae: 2.5936 - dist_relevant_mse: 26.1013 - val_loss: 0.4616 - val_prob_loss: 0.2807 - val_dist_loss: 3.6191 - val_prob_kld: 0.0118 - val_dist_relevant_mae: 3.6177 - val_dist_relevant_mse: 40.1336\n",
            "Epoch 29/50\n",
            "100/100 [==============================] - 42s 422ms/step - loss: 0.3859 - prob_loss: 0.2627 - dist_loss: 2.4640 - prob_kld: 0.0037 - dist_relevant_mae: 2.4626 - dist_relevant_mse: 24.6572 - val_loss: 0.4491 - val_prob_loss: 0.2787 - val_dist_loss: 3.4080 - val_prob_kld: 0.0098 - val_dist_relevant_mae: 3.4066 - val_dist_relevant_mse: 36.5002\n",
            "Epoch 30/50\n",
            "100/100 [==============================] - 42s 420ms/step - loss: 0.3788 - prob_loss: 0.2634 - dist_loss: 2.3071 - prob_kld: 0.0044 - dist_relevant_mae: 2.3056 - dist_relevant_mse: 23.1770 - val_loss: 0.4497 - val_prob_loss: 0.2800 - val_dist_loss: 3.3933 - val_prob_kld: 0.0111 - val_dist_relevant_mae: 3.3919 - val_dist_relevant_mse: 35.9262\n",
            "Epoch 31/50\n",
            "100/100 [==============================] - 42s 418ms/step - loss: 0.3756 - prob_loss: 0.2622 - dist_loss: 2.2685 - prob_kld: 0.0031 - dist_relevant_mae: 2.2670 - dist_relevant_mse: 22.4836 - val_loss: 0.4508 - val_prob_loss: 0.2811 - val_dist_loss: 3.3932 - val_prob_kld: 0.0122 - val_dist_relevant_mae: 3.3918 - val_dist_relevant_mse: 35.8708\n",
            "Epoch 32/50\n",
            "100/100 [==============================] - 42s 418ms/step - loss: 0.3750 - prob_loss: 0.2634 - dist_loss: 2.2316 - prob_kld: 0.0044 - dist_relevant_mae: 2.2302 - dist_relevant_mse: 21.9840 - val_loss: 0.4455 - val_prob_loss: 0.2802 - val_dist_loss: 3.3056 - val_prob_kld: 0.0113 - val_dist_relevant_mae: 3.3041 - val_dist_relevant_mse: 34.7755\n",
            "Epoch 33/50\n",
            "100/100 [==============================] - 42s 418ms/step - loss: 0.4000 - prob_loss: 0.2671 - dist_loss: 2.6583 - prob_kld: 0.0080 - dist_relevant_mae: 2.6568 - dist_relevant_mse: 24.7094 - val_loss: 0.4500 - val_prob_loss: 0.2875 - val_dist_loss: 3.2494 - val_prob_kld: 0.0186 - val_dist_relevant_mae: 3.2479 - val_dist_relevant_mse: 33.1227\n",
            "Epoch 34/50\n",
            "100/100 [==============================] - 42s 417ms/step - loss: 0.3703 - prob_loss: 0.2618 - dist_loss: 2.1712 - prob_kld: 0.0027 - dist_relevant_mae: 2.1697 - dist_relevant_mse: 21.2731 - val_loss: 0.4404 - val_prob_loss: 0.2791 - val_dist_loss: 3.2253 - val_prob_kld: 0.0102 - val_dist_relevant_mae: 3.2238 - val_dist_relevant_mse: 33.6770\n",
            "Epoch 35/50\n",
            "100/100 [==============================] - 42s 421ms/step - loss: 0.3815 - prob_loss: 0.2633 - dist_loss: 2.3643 - prob_kld: 0.0043 - dist_relevant_mae: 2.3629 - dist_relevant_mse: 22.2525 - val_loss: 0.4589 - val_prob_loss: 0.2830 - val_dist_loss: 3.5193 - val_prob_kld: 0.0141 - val_dist_relevant_mae: 3.5179 - val_dist_relevant_mse: 37.2446\n",
            "Epoch 36/50\n",
            "100/100 [==============================] - 42s 418ms/step - loss: 0.3799 - prob_loss: 0.2648 - dist_loss: 2.3015 - prob_kld: 0.0058 - dist_relevant_mae: 2.3000 - dist_relevant_mse: 21.7481 - val_loss: 0.4388 - val_prob_loss: 0.2787 - val_dist_loss: 3.2011 - val_prob_kld: 0.0099 - val_dist_relevant_mae: 3.1996 - val_dist_relevant_mse: 32.4083\n",
            "Epoch 37/50\n",
            "100/100 [==============================] - 42s 419ms/step - loss: 0.3667 - prob_loss: 0.2613 - dist_loss: 2.1077 - prob_kld: 0.0022 - dist_relevant_mae: 2.1062 - dist_relevant_mse: 20.5650 - val_loss: 0.4365 - val_prob_loss: 0.2786 - val_dist_loss: 3.1599 - val_prob_kld: 0.0097 - val_dist_relevant_mae: 3.1584 - val_dist_relevant_mse: 32.1995\n",
            "Epoch 38/50\n",
            "100/100 [==============================] - 42s 418ms/step - loss: 0.3656 - prob_loss: 0.2616 - dist_loss: 2.0801 - prob_kld: 0.0025 - dist_relevant_mae: 2.0786 - dist_relevant_mse: 20.3152 - val_loss: 0.4406 - val_prob_loss: 0.2813 - val_dist_loss: 3.1868 - val_prob_kld: 0.0124 - val_dist_relevant_mae: 3.1854 - val_dist_relevant_mse: 32.5135\n",
            "Epoch 39/50\n",
            "100/100 [==============================] - 42s 416ms/step - loss: 0.3682 - prob_loss: 0.2631 - dist_loss: 2.1024 - prob_kld: 0.0040 - dist_relevant_mae: 2.1010 - dist_relevant_mse: 20.2922 - val_loss: 0.4375 - val_prob_loss: 0.2819 - val_dist_loss: 3.1120 - val_prob_kld: 0.0130 - val_dist_relevant_mae: 3.1105 - val_dist_relevant_mse: 31.2605\n",
            "Epoch 40/50\n",
            "100/100 [==============================] - 42s 418ms/step - loss: 0.3706 - prob_loss: 0.2650 - dist_loss: 2.1125 - prob_kld: 0.0059 - dist_relevant_mae: 2.1110 - dist_relevant_mse: 20.2667 - val_loss: 0.4556 - val_prob_loss: 0.2878 - val_dist_loss: 3.3556 - val_prob_kld: 0.0189 - val_dist_relevant_mae: 3.3541 - val_dist_relevant_mse: 34.2312\n",
            "Epoch 41/50\n",
            "100/100 [==============================] - 42s 419ms/step - loss: 0.3676 - prob_loss: 0.2625 - dist_loss: 2.1029 - prob_kld: 0.0034 - dist_relevant_mae: 2.1014 - dist_relevant_mse: 20.0553 - val_loss: 0.4335 - val_prob_loss: 0.2779 - val_dist_loss: 3.1124 - val_prob_kld: 0.0090 - val_dist_relevant_mae: 3.1109 - val_dist_relevant_mse: 31.1473\n",
            "Epoch 42/50\n",
            "100/100 [==============================] - 42s 420ms/step - loss: 0.3709 - prob_loss: 0.2623 - dist_loss: 2.1718 - prob_kld: 0.0032 - dist_relevant_mae: 2.1704 - dist_relevant_mse: 20.2856 - val_loss: 0.4502 - val_prob_loss: 0.2794 - val_dist_loss: 3.4165 - val_prob_kld: 0.0105 - val_dist_relevant_mae: 3.4150 - val_dist_relevant_mse: 33.9869\n",
            "Epoch 43/50\n",
            "100/100 [==============================] - 42s 418ms/step - loss: 0.3701 - prob_loss: 0.2624 - dist_loss: 2.1545 - prob_kld: 0.0033 - dist_relevant_mae: 2.1530 - dist_relevant_mse: 20.0119 - val_loss: 0.4318 - val_prob_loss: 0.2782 - val_dist_loss: 3.0724 - val_prob_kld: 0.0093 - val_dist_relevant_mae: 3.0709 - val_dist_relevant_mse: 30.7771\n",
            "Epoch 44/50\n",
            "100/100 [==============================] - 42s 418ms/step - loss: 0.3667 - prob_loss: 0.2668 - dist_loss: 1.9983 - prob_kld: 0.0077 - dist_relevant_mae: 1.9969 - dist_relevant_mse: 19.2921 - val_loss: 0.4338 - val_prob_loss: 0.2811 - val_dist_loss: 3.0533 - val_prob_kld: 0.0122 - val_dist_relevant_mae: 3.0519 - val_dist_relevant_mse: 30.2039\n",
            "Epoch 45/50\n",
            "100/100 [==============================] - 42s 415ms/step - loss: 0.3631 - prob_loss: 0.2623 - dist_loss: 2.0165 - prob_kld: 0.0032 - dist_relevant_mae: 2.0151 - dist_relevant_mse: 19.2575 - val_loss: 0.4275 - val_prob_loss: 0.2775 - val_dist_loss: 3.0002 - val_prob_kld: 0.0086 - val_dist_relevant_mae: 2.9987 - val_dist_relevant_mse: 29.3513\n",
            "Epoch 46/50\n",
            "100/100 [==============================] - 42s 417ms/step - loss: 0.3655 - prob_loss: 0.2615 - dist_loss: 2.0798 - prob_kld: 0.0024 - dist_relevant_mae: 2.0784 - dist_relevant_mse: 19.3891 - val_loss: 0.4337 - val_prob_loss: 0.2786 - val_dist_loss: 3.1025 - val_prob_kld: 0.0097 - val_dist_relevant_mae: 3.1011 - val_dist_relevant_mse: 31.0208\n",
            "Epoch 47/50\n",
            "100/100 [==============================] - 42s 416ms/step - loss: 0.3594 - prob_loss: 0.2611 - dist_loss: 1.9665 - prob_kld: 0.0020 - dist_relevant_mae: 1.9651 - dist_relevant_mse: 18.7262 - val_loss: 0.4293 - val_prob_loss: 0.2787 - val_dist_loss: 3.0110 - val_prob_kld: 0.0099 - val_dist_relevant_mae: 3.0096 - val_dist_relevant_mse: 29.6587\n",
            "Epoch 48/50\n",
            "100/100 [==============================] - 42s 415ms/step - loss: 0.3597 - prob_loss: 0.2628 - dist_loss: 1.9379 - prob_kld: 0.0037 - dist_relevant_mae: 1.9364 - dist_relevant_mse: 18.5202 - val_loss: 0.4347 - val_prob_loss: 0.2850 - val_dist_loss: 2.9954 - val_prob_kld: 0.0161 - val_dist_relevant_mae: 2.9939 - val_dist_relevant_mse: 29.4100\n",
            "Epoch 49/50\n",
            "100/100 [==============================] - 42s 417ms/step - loss: 0.3872 - prob_loss: 0.2712 - dist_loss: 2.3191 - prob_kld: 0.0121 - dist_relevant_mae: 2.3177 - dist_relevant_mse: 20.6337 - val_loss: 0.4265 - val_prob_loss: 0.2791 - val_dist_loss: 2.9463 - val_prob_kld: 0.0103 - val_dist_relevant_mae: 2.9448 - val_dist_relevant_mse: 28.2152\n",
            "Epoch 50/50\n",
            "100/100 [==============================] - 42s 418ms/step - loss: 0.3604 - prob_loss: 0.2618 - dist_loss: 1.9724 - prob_kld: 0.0027 - dist_relevant_mae: 1.9710 - dist_relevant_mse: 18.4699 - val_loss: 0.4224 - val_prob_loss: 0.2776 - val_dist_loss: 2.8962 - val_prob_kld: 0.0088 - val_dist_relevant_mae: 2.8948 - val_dist_relevant_mse: 28.5878\n",
            "\n",
            "Loading network weights from 'weights_last.h5'.\n"
          ],
          "name": "stdout"
        },
        {
          "output_type": "stream",
          "text": [
            "NMS threshold = 0.3:  75%|███████▌  | 15/20 [00:10<00:03,  1.47it/s, 0.667 -> 0.833]\n",
            "NMS threshold = 0.4:  75%|███████▌  | 15/20 [00:08<00:02,  1.80it/s, 0.667 -> 0.833]\n",
            "NMS threshold = 0.5:  75%|███████▌  | 15/20 [00:08<00:02,  1.83it/s, 0.667 -> 0.833]\n"
          ],
          "name": "stderr"
        },
        {
          "output_type": "stream",
          "text": [
            "Using optimized values: prob_thresh=0.664585, nms_thresh=0.3.\n",
            "Saving to 'thresholds.json'.\n",
            "Training UNET model\n",
            "number of training images:\t 173\n",
            "number of validation images:\t 19\n",
            "image size (2D):\t\t (512, 512)\n",
            "axes:\t\t\t\t SYXC\n",
            "channels in / out:\t\t 1 / 1\n",
            "Config(axes='YXC', n_channel_in=1, n_channel_out=1, n_dim=2, probabilistic=False, train_batch_size=1, train_checkpoint='weights_best.h5', train_checkpoint_epoch='weights_now.h5', train_checkpoint_last='weights_last.h5', train_epochs=50, train_learning_rate=0.0001, train_loss='mae', train_reduce_lr={'patience': 5, 'factor': 0.5}, train_steps_per_epoch=400, train_tensorboard=True, unet_input_shape=(None, None, 1), unet_kern_size=3, unet_last_activation='linear', unet_n_depth=5, unet_n_first=48, unet_residual=True)\n",
            "Epoch 1/50\n",
            "400/400 [==============================] - 30s 74ms/step - loss: 0.1594 - mse: 0.1005 - mae: 0.1594 - val_loss: 0.0900 - val_mse: 0.0598 - val_mae: 0.0900\n",
            "Epoch 2/50\n",
            "400/400 [==============================] - 27s 68ms/step - loss: 0.0657 - mse: 0.0388 - mae: 0.0657 - val_loss: 0.0401 - val_mse: 0.0222 - val_mae: 0.0401\n",
            "Epoch 3/50\n",
            "400/400 [==============================] - 27s 68ms/step - loss: 0.0385 - mse: 0.0192 - mae: 0.0385 - val_loss: 0.0360 - val_mse: 0.0142 - val_mae: 0.0360\n",
            "Epoch 4/50\n",
            "400/400 [==============================] - 27s 68ms/step - loss: 0.0289 - mse: 0.0127 - mae: 0.0289 - val_loss: 0.0302 - val_mse: 0.0112 - val_mae: 0.0302\n",
            "Epoch 5/50\n",
            "400/400 [==============================] - 27s 68ms/step - loss: 0.0257 - mse: 0.0106 - mae: 0.0257 - val_loss: 0.0247 - val_mse: 0.0118 - val_mae: 0.0247\n",
            "Epoch 6/50\n",
            "400/400 [==============================] - 27s 68ms/step - loss: 0.0211 - mse: 0.0091 - mae: 0.0211 - val_loss: 0.0165 - val_mse: 0.0067 - val_mae: 0.0165\n",
            "Epoch 7/50\n",
            "400/400 [==============================] - 27s 68ms/step - loss: 0.0195 - mse: 0.0079 - mae: 0.0195 - val_loss: 0.0189 - val_mse: 0.0073 - val_mae: 0.0189\n",
            "Epoch 8/50\n",
            "400/400 [==============================] - 27s 68ms/step - loss: 0.0178 - mse: 0.0068 - mae: 0.0178 - val_loss: 0.0137 - val_mse: 0.0055 - val_mae: 0.0137\n",
            "Epoch 9/50\n",
            "400/400 [==============================] - 27s 68ms/step - loss: 0.0169 - mse: 0.0063 - mae: 0.0169 - val_loss: 0.0216 - val_mse: 0.0097 - val_mae: 0.0216\n",
            "Epoch 10/50\n",
            "400/400 [==============================] - 27s 68ms/step - loss: 0.0156 - mse: 0.0053 - mae: 0.0156 - val_loss: 0.0130 - val_mse: 0.0042 - val_mae: 0.0130\n",
            "Epoch 11/50\n",
            "400/400 [==============================] - 27s 68ms/step - loss: 0.0137 - mse: 0.0051 - mae: 0.0137 - val_loss: 0.0118 - val_mse: 0.0049 - val_mae: 0.0118\n",
            "Epoch 12/50\n",
            "400/400 [==============================] - 27s 68ms/step - loss: 0.0136 - mse: 0.0048 - mae: 0.0136 - val_loss: 0.0184 - val_mse: 0.0070 - val_mae: 0.0184\n",
            "Epoch 13/50\n",
            "400/400 [==============================] - 27s 68ms/step - loss: 0.0147 - mse: 0.0052 - mae: 0.0147 - val_loss: 0.0112 - val_mse: 0.0055 - val_mae: 0.0112\n",
            "Epoch 14/50\n",
            "400/400 [==============================] - 27s 68ms/step - loss: 0.0107 - mse: 0.0036 - mae: 0.0107 - val_loss: 0.0104 - val_mse: 0.0031 - val_mae: 0.0104\n",
            "Epoch 15/50\n",
            "400/400 [==============================] - 27s 68ms/step - loss: 0.0106 - mse: 0.0032 - mae: 0.0106 - val_loss: 0.0112 - val_mse: 0.0036 - val_mae: 0.0112\n",
            "Epoch 16/50\n",
            "400/400 [==============================] - 27s 68ms/step - loss: 0.0107 - mse: 0.0036 - mae: 0.0107 - val_loss: 0.0098 - val_mse: 0.0035 - val_mae: 0.0098\n",
            "Epoch 17/50\n",
            "400/400 [==============================] - 27s 68ms/step - loss: 0.0101 - mse: 0.0033 - mae: 0.0101 - val_loss: 0.0090 - val_mse: 0.0031 - val_mae: 0.0090\n",
            "Epoch 18/50\n",
            "400/400 [==============================] - 27s 68ms/step - loss: 0.0105 - mse: 0.0034 - mae: 0.0105 - val_loss: 0.0069 - val_mse: 0.0019 - val_mae: 0.0069\n",
            "Epoch 19/50\n",
            "400/400 [==============================] - 27s 68ms/step - loss: 0.0089 - mse: 0.0025 - mae: 0.0089 - val_loss: 0.0086 - val_mse: 0.0025 - val_mae: 0.0086\n",
            "Epoch 20/50\n",
            "400/400 [==============================] - 27s 68ms/step - loss: 0.0078 - mse: 0.0022 - mae: 0.0078 - val_loss: 0.0059 - val_mse: 0.0019 - val_mae: 0.0059\n",
            "Epoch 21/50\n",
            "400/400 [==============================] - 27s 68ms/step - loss: 0.0081 - mse: 0.0023 - mae: 0.0081 - val_loss: 0.0088 - val_mse: 0.0018 - val_mae: 0.0088\n",
            "Epoch 22/50\n",
            "400/400 [==============================] - 27s 68ms/step - loss: 0.0080 - mse: 0.0024 - mae: 0.0080 - val_loss: 0.0104 - val_mse: 0.0027 - val_mae: 0.0104\n",
            "Epoch 23/50\n",
            "400/400 [==============================] - 27s 68ms/step - loss: 0.0073 - mse: 0.0017 - mae: 0.0073 - val_loss: 0.0080 - val_mse: 0.0018 - val_mae: 0.0080\n",
            "Epoch 24/50\n",
            "400/400 [==============================] - 27s 68ms/step - loss: 0.0067 - mse: 0.0016 - mae: 0.0067 - val_loss: 0.0059 - val_mse: 0.0019 - val_mae: 0.0059\n",
            "Epoch 25/50\n",
            "400/400 [==============================] - 27s 68ms/step - loss: 0.0065 - mse: 0.0018 - mae: 0.0065 - val_loss: 0.0074 - val_mse: 0.0021 - val_mae: 0.0074\n",
            "\n",
            "Epoch 00025: ReduceLROnPlateau reducing learning rate to 4.999999873689376e-05.\n",
            "Epoch 26/50\n",
            "400/400 [==============================] - 27s 68ms/step - loss: 0.0037 - mse: 8.0965e-04 - mae: 0.0037 - val_loss: 0.0038 - val_mse: 7.1091e-04 - val_mae: 0.0038\n",
            "Epoch 27/50\n",
            "400/400 [==============================] - 27s 68ms/step - loss: 0.0037 - mse: 6.9808e-04 - mae: 0.0037 - val_loss: 0.0044 - val_mse: 0.0014 - val_mae: 0.0044\n",
            "Epoch 28/50\n",
            "400/400 [==============================] - 27s 68ms/step - loss: 0.0037 - mse: 7.3136e-04 - mae: 0.0037 - val_loss: 0.0037 - val_mse: 7.1319e-04 - val_mae: 0.0037\n",
            "Epoch 29/50\n",
            "400/400 [==============================] - 27s 68ms/step - loss: 0.0037 - mse: 7.0967e-04 - mae: 0.0037 - val_loss: 0.0035 - val_mse: 6.3710e-04 - val_mae: 0.0035\n",
            "Epoch 30/50\n",
            "400/400 [==============================] - 27s 68ms/step - loss: 0.0034 - mse: 6.9835e-04 - mae: 0.0034 - val_loss: 0.0037 - val_mse: 8.6109e-04 - val_mae: 0.0037\n",
            "Epoch 31/50\n",
            "400/400 [==============================] - 27s 68ms/step - loss: 0.0036 - mse: 7.1377e-04 - mae: 0.0036 - val_loss: 0.0032 - val_mse: 8.3798e-04 - val_mae: 0.0032\n",
            "Epoch 32/50\n",
            "400/400 [==============================] - 27s 68ms/step - loss: 0.0033 - mse: 6.7456e-04 - mae: 0.0033 - val_loss: 0.0032 - val_mse: 6.9095e-04 - val_mae: 0.0032\n",
            "Epoch 33/50\n",
            "400/400 [==============================] - 27s 68ms/step - loss: 0.0037 - mse: 7.7428e-04 - mae: 0.0037 - val_loss: 0.0029 - val_mse: 7.2227e-04 - val_mae: 0.0029\n",
            "Epoch 34/50\n",
            "400/400 [==============================] - 27s 68ms/step - loss: 0.0037 - mse: 5.7341e-04 - mae: 0.0037 - val_loss: 0.0037 - val_mse: 8.9339e-04 - val_mae: 0.0037\n",
            "Epoch 35/50\n",
            "400/400 [==============================] - 27s 68ms/step - loss: 0.0032 - mse: 5.1994e-04 - mae: 0.0032 - val_loss: 0.0035 - val_mse: 6.3482e-04 - val_mae: 0.0035\n",
            "Epoch 36/50\n",
            "400/400 [==============================] - 27s 68ms/step - loss: 0.0031 - mse: 5.9140e-04 - mae: 0.0031 - val_loss: 0.0031 - val_mse: 4.7224e-04 - val_mae: 0.0031\n",
            "Epoch 37/50\n",
            "400/400 [==============================] - 27s 68ms/step - loss: 0.0031 - mse: 5.1369e-04 - mae: 0.0031 - val_loss: 0.0031 - val_mse: 6.6273e-04 - val_mae: 0.0031\n",
            "Epoch 38/50\n",
            "400/400 [==============================] - 27s 68ms/step - loss: 0.0029 - mse: 4.1843e-04 - mae: 0.0029 - val_loss: 0.0040 - val_mse: 4.5026e-04 - val_mae: 0.0040\n",
            "\n",
            "Epoch 00038: ReduceLROnPlateau reducing learning rate to 2.499999936844688e-05.\n",
            "Epoch 39/50\n",
            "400/400 [==============================] - 27s 68ms/step - loss: 0.0018 - mse: 2.9036e-04 - mae: 0.0018 - val_loss: 0.0018 - val_mse: 3.2462e-04 - val_mae: 0.0018\n",
            "Epoch 40/50\n",
            "400/400 [==============================] - 27s 68ms/step - loss: 0.0018 - mse: 2.8060e-04 - mae: 0.0018 - val_loss: 0.0019 - val_mse: 3.2456e-04 - val_mae: 0.0019\n",
            "Epoch 41/50\n",
            "400/400 [==============================] - 27s 68ms/step - loss: 0.0021 - mse: 3.0324e-04 - mae: 0.0021 - val_loss: 0.0018 - val_mse: 3.2013e-04 - val_mae: 0.0018\n",
            "Epoch 42/50\n",
            "400/400 [==============================] - 27s 68ms/step - loss: 0.0018 - mse: 2.8266e-04 - mae: 0.0018 - val_loss: 0.0021 - val_mse: 3.3669e-04 - val_mae: 0.0021\n",
            "Epoch 43/50\n",
            "400/400 [==============================] - 27s 68ms/step - loss: 0.0019 - mse: 2.9148e-04 - mae: 0.0019 - val_loss: 0.0025 - val_mse: 3.3347e-04 - val_mae: 0.0025\n",
            "Epoch 44/50\n",
            "400/400 [==============================] - 27s 68ms/step - loss: 0.0021 - mse: 3.4848e-04 - mae: 0.0021 - val_loss: 0.0018 - val_mse: 3.4460e-04 - val_mae: 0.0018\n",
            "\n",
            "Epoch 00044: ReduceLROnPlateau reducing learning rate to 1.249999968422344e-05.\n",
            "Epoch 45/50\n",
            "400/400 [==============================] - 27s 68ms/step - loss: 0.0015 - mse: 2.5634e-04 - mae: 0.0015 - val_loss: 0.0016 - val_mse: 2.9699e-04 - val_mae: 0.0016\n",
            "Epoch 46/50\n",
            "400/400 [==============================] - 27s 68ms/step - loss: 0.0014 - mse: 2.5258e-04 - mae: 0.0014 - val_loss: 0.0016 - val_mse: 3.0638e-04 - val_mae: 0.0016\n",
            "Epoch 47/50\n",
            "400/400 [==============================] - 27s 68ms/step - loss: 0.0015 - mse: 2.5521e-04 - mae: 0.0015 - val_loss: 0.0015 - val_mse: 3.0307e-04 - val_mae: 0.0015\n",
            "Epoch 48/50\n",
            "400/400 [==============================] - 27s 68ms/step - loss: 0.0015 - mse: 2.5490e-04 - mae: 0.0015 - val_loss: 0.0015 - val_mse: 2.9472e-04 - val_mae: 0.0015\n",
            "Epoch 49/50\n",
            "400/400 [==============================] - 27s 68ms/step - loss: 0.0015 - mse: 2.5372e-04 - mae: 0.0015 - val_loss: 0.0016 - val_mse: 3.2201e-04 - val_mae: 0.0016\n",
            "Epoch 50/50\n",
            "400/400 [==============================] - 27s 68ms/step - loss: 0.0015 - mse: 2.5261e-04 - mae: 0.0015 - val_loss: 0.0015 - val_mse: 2.9549e-04 - val_mae: 0.0015\n",
            "\n",
            "Loading network weights from 'weights_best.h5'.\n"
          ],
          "name": "stdout"
        }
      ]
    },
    {
      "cell_type": "code",
      "metadata": {
        "id": "3rGWrjXn4yn1"
      },
      "source": [
        ""
      ],
      "execution_count": 6,
      "outputs": []
    }
  ]
}