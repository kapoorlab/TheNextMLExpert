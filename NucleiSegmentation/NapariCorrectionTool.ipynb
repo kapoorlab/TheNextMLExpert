{
 "cells": [
  {
   "cell_type": "markdown",
   "metadata": {},
   "source": [
    "# In this notebook we use napari to correct the segmentation mistakes.\n",
    "\n"
   ]
  },
  {
   "cell_type": "code",
   "execution_count": 1,
   "metadata": {},
   "outputs": [],
   "source": [
    "import sys\n",
    "import os\n",
    "import numpy as np\n",
    "import glob\n",
    "from tifffile import imread, imwrite\n",
    "import napari\n",
    "from pathlib import Path\n",
    "\n"
   ]
  },
  {
   "cell_type": "code",
   "execution_count": 2,
   "metadata": {},
   "outputs": [],
   "source": [
    "Imagedir = '/Users/aimachine/fmi-assignment/Denoised/'\n",
    "NucleiSegmentationSmart = '/Users/aimachine/fmi-assignment/SegmentationResults/SmartSeedsMask/'\n"
   ]
  },
  {
   "cell_type": "markdown",
   "metadata": {},
   "source": [
    "# For correcting the smart seed results"
   ]
  },
  {
   "cell_type": "code",
   "execution_count": null,
   "metadata": {},
   "outputs": [],
   "source": [
    "Raw_path = os.path.join(Imagedir, '*tif')\n",
    "SegSmart_path = os.path.join(NucleiSegmentationSmart, '*tif')\n",
    "\n",
    "\n",
    "filesRaw = glob.glob(Raw_path)\n",
    "filesRaw.sort\n",
    "\n",
    "filesSegSmart = glob.glob(SegSmart_path)\n",
    "filesSegSmart.sort\n",
    "\n",
    "\n",
    "for fname in filesRaw:\n",
    "     for thirdname in filesSegSmart:\n",
    "     FirstName = os.path.basename(os.path.splitext(fname)[0]\n",
    "     SegSmartName = os.path.basename(os.path.splitext(thirdname)[0]   \n",
    "    if FirstName == SegSmartName:\n",
    "            print(fname)\n",
    "            image = imread(fname)\n",
    "            \n",
    "            SegSmartimage = imread(thirdname)\n",
    "            \n",
    "            Name = (os.path.basename(os.path.splitext(fname)[0]))\n",
    "            with napari.gui_qt():\n",
    "   \n",
    "    \n",
    "                viewer = napari.view_image(image, name='Raw')\n",
    "                viewer.add_labels(SegSmartimage, name= 'SmartSeeds')                     \n",
    "\n",
    "\n",
    "            ModifiedArray = viewer.layers['SmartSeeds'].data \n",
    "            imwrite((SegmentationDir  +   Name + '.tif' ) , (ModifiedArray.astype('uint16')))   \n",
    "   "
   ]
  }
 ],
 "metadata": {
  "kernelspec": {
   "display_name": "Python [conda env:NapariTrack] *",
   "language": "python",
   "name": "conda-env-NapariTrack-py"
  },
  "language_info": {
   "codemirror_mode": {
    "name": "ipython",
    "version": 3
   },
   "file_extension": ".py",
   "mimetype": "text/x-python",
   "name": "python",
   "nbconvert_exporter": "python",
   "pygments_lexer": "ipython3",
   "version": "3.9.0"
  }
 },
 "nbformat": 4,
 "nbformat_minor": 2
}
