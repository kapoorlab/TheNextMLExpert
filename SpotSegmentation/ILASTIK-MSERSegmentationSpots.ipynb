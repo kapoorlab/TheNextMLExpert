{
 "cells": [
  {
   "cell_type": "code",
   "execution_count": 17,
   "id": "acquired-helen",
   "metadata": {},
   "outputs": [],
   "source": [
    "import sys\n",
    "import os\n",
    "import numpy as np\n",
    "import glob\n",
    "from tifffile import imread, imwrite\n",
    "import napari\n",
    "from pathlib import Path\n",
    "from skimage.measure import  label\n",
    "\n",
    "from skimage.morphology import remove_small_objects"
   ]
  },
  {
   "cell_type": "code",
   "execution_count": 18,
   "id": "incoming-affair",
   "metadata": {},
   "outputs": [],
   "source": [
    "Imagedir = '/Users/aimachine/fmi-assignment/Denoised/'\n",
    "SpotSegmentationMSER = '/Users/aimachine/fmi-assignment/SegmentationResults/SpotSegmentationMSER/'\n",
    "SpotProbabilityILASTIK = '/Users/aimachine/fmi-assignment/SegmentationResults/SpotProbabilityILASTIK/'\n",
    "SpotSegmentationILASTIK = '/Users/aimachine/fmi-assignment/SegmentationResults/SpotSegmentationILASTIK/'"
   ]
  },
  {
   "cell_type": "code",
   "execution_count": 19,
   "id": "brutal-proof",
   "metadata": {},
   "outputs": [],
   "source": [
    "#Use the probability image coming out of Ilastik for the (first) spot channel \n",
    "#and threshold to remove low probability detections\n",
    "ProbabilityThreshold = 0.5\n",
    "#Remove spots below a certain size, to get rid of tiney dots\n",
    "min_size = 20"
   ]
  },
  {
   "cell_type": "code",
   "execution_count": 20,
   "id": "equipped-purple",
   "metadata": {},
   "outputs": [
    {
     "data": {
      "text/plain": [
       "<function list.sort(*, key=None, reverse=False)>"
      ]
     },
     "execution_count": 20,
     "metadata": {},
     "output_type": "execute_result"
    }
   ],
   "source": [
    "Raw_path = os.path.join(Imagedir, '*tif')\n",
    "Path(SpotSegmentationILASTIK).mkdir(exist_ok = True)\n",
    "SegSpot_path = os.path.join(SpotSegmentationMSER, '*tif')\n",
    "SegSpotIlastik_path = os.path.join(SpotProbabilityILASTIK, '*tif')\n",
    "\n",
    "filesRaw = glob.glob(Raw_path)\n",
    "filesRaw.sort\n",
    "\n",
    "filesSegSpot = glob.glob(SegSpot_path)\n",
    "filesSegSpot.sort\n",
    "filesSegSpotIlastik = glob.glob(SegSpotIlastik_path)\n",
    "filesSegSpotIlastik.sort"
   ]
  },
  {
   "cell_type": "markdown",
   "id": "assured-treasure",
   "metadata": {},
   "source": [
    "# Convert Ilastik Probability map of two channel to label images"
   ]
  },
  {
   "cell_type": "code",
   "execution_count": 21,
   "id": "ordered-seven",
   "metadata": {},
   "outputs": [],
   "source": [
    "for fname in filesSegSpotIlastik:\n",
    "    Name = os.path.basename(os.path.splitext(fname)[0])\n",
    "    TwoChannel = imread(fname)\n",
    "    SpotChannel = TwoChannel[:,0,:,:]\n",
    "    Binary = SpotChannel > ProbabilityThreshold\n",
    "    Binary = remove_small_objects(Binary, min_size = min_size)\n",
    "    Integer = label(Binary)\n",
    "    imwrite(SpotSegmentationILASTIK + Name + '.tif', Integer.astype('uint16'))    "
   ]
  },
  {
   "cell_type": "code",
   "execution_count": null,
   "id": "demanding-fifth",
   "metadata": {},
   "outputs": [],
   "source": []
  }
 ],
 "metadata": {
  "kernelspec": {
   "display_name": "Python [conda env:NapariTrack] *",
   "language": "python",
   "name": "conda-env-NapariTrack-py"
  },
  "language_info": {
   "codemirror_mode": {
    "name": "ipython",
    "version": 3
   },
   "file_extension": ".py",
   "mimetype": "text/x-python",
   "name": "python",
   "nbconvert_exporter": "python",
   "pygments_lexer": "ipython3",
   "version": "3.9.0"
  }
 },
 "nbformat": 4,
 "nbformat_minor": 5
}
