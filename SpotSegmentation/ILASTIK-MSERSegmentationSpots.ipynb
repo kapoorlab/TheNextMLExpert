{
 "cells": [
  {
   "cell_type": "code",
   "execution_count": 1,
   "id": "conventional-prague",
   "metadata": {},
   "outputs": [],
   "source": [
    "import sys\n",
    "import os\n",
    "import numpy as np\n",
    "import glob\n",
    "from tifffile import imread, imwrite\n",
    "import napari\n",
    "from pathlib import Path\n",
    "from skimage.measure import  label\n",
    "\n",
    "from skimage.morphology import remove_small_objects"
   ]
  },
  {
   "cell_type": "code",
   "execution_count": 2,
   "id": "waiting-crawford",
   "metadata": {},
   "outputs": [],
   "source": [
    "Imagedir = '/Users/aimachine/fmi-assignment/Denoised/'\n",
    "SpotSegmentationMSER = '/Users/aimachine/fmi-assignment/SegmentationResults/SpotSegmentationMSER/'\n",
    "SpotProbabilityILASTIK = '/Users/aimachine/fmi-assignment/SegmentationResults/SpotProbabilityILASTIK/'\n",
    "SpotSegmentationILASTIK = '/Users/aimachine/fmi-assignment/SegmentationResults/SpotSegmentationILASTIK/'"
   ]
  },
  {
   "cell_type": "code",
   "execution_count": 3,
   "id": "collectible-transformation",
   "metadata": {},
   "outputs": [],
   "source": [
    "#Use the probability image coming out of Ilastik for the (first) spot channel \n",
    "#and threshold to remove low probability detections\n",
    "ProbabilityThreshold = 0.5\n",
    "#Remove spots below a certain size, to get rid of tiney dots\n",
    "min_size = 20"
   ]
  },
  {
   "cell_type": "code",
   "execution_count": 4,
   "id": "mounted-needle",
   "metadata": {},
   "outputs": [
    {
     "data": {
      "text/plain": [
       "<function list.sort(*, key=None, reverse=False)>"
      ]
     },
     "execution_count": 4,
     "metadata": {},
     "output_type": "execute_result"
    }
   ],
   "source": [
    "Raw_path = os.path.join(Imagedir, '*tif')\n",
    "Path(SpotSegmentationILASTIK).mkdir(exist_ok = True)\n",
    "SegSpot_path = os.path.join(SpotSegmentationMSER, '*tif')\n",
    "SegSpotIlastik_path = os.path.join(SpotProbabilityILASTIK, '*tif')\n",
    "SegSpotSegIlastik_path = os.path.join(SpotSegmentationILASTIK, '*tif')\n",
    "filesRaw = glob.glob(Raw_path)\n",
    "filesRaw.sort\n",
    "\n",
    "filesSegSpot = glob.glob(SegSpot_path)\n",
    "filesSegSpot.sort\n",
    "filesSegSpotIlastik = glob.glob(SegSpotIlastik_path)\n",
    "filesSegSpotIlastik.sort\n",
    "filesSegSpotSegIlastik = glob.glob(SegSpotSegIlastik_path)\n",
    "filesSegSpotSegIlastik.sort"
   ]
  },
  {
   "cell_type": "markdown",
   "id": "innocent-farming",
   "metadata": {},
   "source": [
    "# Convert Ilastik Probability map of two channel to label images"
   ]
  },
  {
   "cell_type": "code",
   "execution_count": 5,
   "id": "outside-secondary",
   "metadata": {},
   "outputs": [],
   "source": [
    "for fname in filesSegSpotIlastik:\n",
    "    Name = os.path.basename(os.path.splitext(fname)[0])\n",
    "    TwoChannel = imread(fname)\n",
    "    SpotChannel = TwoChannel[:,0,:,:]\n",
    "    Binary = SpotChannel > ProbabilityThreshold\n",
    "    Binary = remove_small_objects(Binary, min_size = min_size)\n",
    "    Integer = label(Binary)\n",
    "    imwrite(SpotSegmentationILASTIK + Name + '.tif', Integer.astype('uint16'))    "
   ]
  },
  {
   "cell_type": "markdown",
   "id": "editorial-czech",
   "metadata": {},
   "source": [
    "# Compare the MSER and ILASTIK segmentations"
   ]
  },
  {
   "cell_type": "code",
   "execution_count": 7,
   "id": "protected-passion",
   "metadata": {},
   "outputs": [],
   "source": [
    "for fname in filesRaw:\n",
    "    for fourthname in filesSegSpot: \n",
    "               for fifthname in filesSegSpotSegIlastik:\n",
    "                     FirstName = os.path.basename(os.path.splitext(fname)[0])\n",
    "                     SegSpotName = os.path.basename(os.path.splitext(fourthname)[0] )    \n",
    "                     SegSpotIlastikName = os.path.basename(os.path.splitext(fifthname)[0] )\n",
    "                     if FirstName == SegSpotName == SegSpotIlastikName :\n",
    "                        image = imread(fname)\n",
    "                        SegSpotimage = imread(fourthname)                        \n",
    "                        SegSpotIlastikimage = imread(fifthname)\n",
    "                        Name = (os.path.basename(os.path.splitext(fname)[0]))\n",
    "                        with napari.gui_qt():\n",
    "\n",
    "\n",
    "                            viewer = napari.view_image(image, name='Raw')\n",
    "                            viewer.add_labels(SegSpotimage, name= 'SpotsMSER')\n",
    "                            viewer.add_labels(SegSpotIlastikimage, name= 'SpotsIlastik')\n",
    "                            "
   ]
  },
  {
   "cell_type": "code",
   "execution_count": null,
   "id": "bridal-republic",
   "metadata": {},
   "outputs": [],
   "source": []
  },
  {
   "cell_type": "code",
   "execution_count": null,
   "id": "reported-wichita",
   "metadata": {},
   "outputs": [],
   "source": []
  }
 ],
 "metadata": {
  "kernelspec": {
   "display_name": "Python [conda env:NapariTrack] *",
   "language": "python",
   "name": "conda-env-NapariTrack-py"
  },
  "language_info": {
   "codemirror_mode": {
    "name": "ipython",
    "version": 3
   },
   "file_extension": ".py",
   "mimetype": "text/x-python",
   "name": "python",
   "nbconvert_exporter": "python",
   "pygments_lexer": "ipython3",
   "version": "3.9.0"
  }
 },
 "nbformat": 4,
 "nbformat_minor": 5
}
