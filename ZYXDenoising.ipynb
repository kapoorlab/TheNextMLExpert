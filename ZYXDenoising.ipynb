{
  "nbformat": 4,
  "nbformat_minor": 0,
  "metadata": {
    "kernelspec": {
      "display_name": "Python 3",
      "language": "python",
      "name": "python3"
    },
    "language_info": {
      "codemirror_mode": {
        "name": "ipython",
        "version": 3
      },
      "file_extension": ".py",
      "mimetype": "text/x-python",
      "name": "python",
      "nbconvert_exporter": "python",
      "pygments_lexer": "ipython3",
      "version": "3.8.5"
    },
    "colab": {
      "name": "ZYXDenoising.ipynb",
      "provenance": [],
      "collapsed_sections": [],
      "machine_shape": "hm"
    },
    "accelerator": "GPU"
  },
  "cells": [
    {
      "cell_type": "code",
      "metadata": {
        "colab": {
          "base_uri": "https://localhost:8080/"
        },
        "id": "6hJUb54nxhLs",
        "outputId": "9a3fc5b4-1111-4f7a-e500-e12c9354c8a2"
      },
      "source": [
        "from google.colab import drive\n",
        "drive.mount('/content/drive', force_remount = True)\n",
        "%tensorflow_version 1.x"
      ],
      "execution_count": 1,
      "outputs": [
        {
          "output_type": "stream",
          "text": [
            "Mounted at /content/drive\n",
            "TensorFlow 1.x selected.\n"
          ],
          "name": "stdout"
        }
      ]
    },
    {
      "cell_type": "code",
      "metadata": {
        "colab": {
          "base_uri": "https://localhost:8080/"
        },
        "id": "dw-nTmsRxhLy",
        "outputId": "f55d5275-8a58-4e46-e56a-d6d4df66e7bc"
      },
      "source": [
        "!pip install tiffile\n",
        "!pip install elasticdeform\n",
        "!pip install keras==2.2.5\n",
        "!pip install csbdeep\n",
        "!pip install stardist\n",
        "!pip install gputools\n",
        "!pip install btrack"
      ],
      "execution_count": 2,
      "outputs": [
        {
          "output_type": "stream",
          "text": [
            "Collecting tiffile\n",
            "  Downloading https://files.pythonhosted.org/packages/86/d7/d8fdfc8da77fde224e7f21d0c6612614852242b9631e31ca3366edb0d3f2/tiffile-2018.10.18-py2.py3-none-any.whl\n",
            "Requirement already satisfied: tifffile in /usr/local/lib/python3.6/dist-packages (from tiffile) (2020.9.3)\n",
            "Requirement already satisfied: numpy>=1.15.1 in /usr/local/lib/python3.6/dist-packages (from tifffile->tiffile) (1.19.5)\n",
            "Installing collected packages: tiffile\n",
            "Successfully installed tiffile-2018.10.18\n",
            "Collecting elasticdeform\n",
            "  Downloading https://files.pythonhosted.org/packages/22/6b/fd4693892a2035326c79363f05b6380e46d2f70d11e94d3e1f667c797084/elasticdeform-0.4.7.tar.gz\n",
            "Requirement already satisfied: numpy in /usr/local/lib/python3.6/dist-packages (from elasticdeform) (1.19.5)\n",
            "Requirement already satisfied: scipy in /usr/local/lib/python3.6/dist-packages (from elasticdeform) (1.4.1)\n",
            "Building wheels for collected packages: elasticdeform\n",
            "  Building wheel for elasticdeform (setup.py) ... \u001b[?25l\u001b[?25hdone\n",
            "  Created wheel for elasticdeform: filename=elasticdeform-0.4.7-cp36-cp36m-linux_x86_64.whl size=72536 sha256=d8fe054f348ccdbfec3b4965c5e72722fd0ff323e39dc4b0c36fc3541bcf0a43\n",
            "  Stored in directory: /root/.cache/pip/wheels/1d/5e/8a/890fbf14dc7f26d5da56968248eb7b85fd7e72870462e2c3e3\n",
            "Successfully built elasticdeform\n",
            "Installing collected packages: elasticdeform\n",
            "Successfully installed elasticdeform-0.4.7\n",
            "Collecting keras==2.2.5\n",
            "\u001b[?25l  Downloading https://files.pythonhosted.org/packages/f8/ba/2d058dcf1b85b9c212cc58264c98a4a7dd92c989b798823cc5690d062bb2/Keras-2.2.5-py2.py3-none-any.whl (336kB)\n",
            "\u001b[K     |████████████████████████████████| 337kB 13.8MB/s \n",
            "\u001b[?25hRequirement already satisfied: h5py in /usr/local/lib/python3.6/dist-packages (from keras==2.2.5) (2.10.0)\n",
            "Requirement already satisfied: scipy>=0.14 in /usr/local/lib/python3.6/dist-packages (from keras==2.2.5) (1.4.1)\n",
            "Requirement already satisfied: keras-preprocessing>=1.1.0 in /usr/local/lib/python3.6/dist-packages (from keras==2.2.5) (1.1.2)\n",
            "Requirement already satisfied: six>=1.9.0 in /usr/local/lib/python3.6/dist-packages (from keras==2.2.5) (1.15.0)\n",
            "Requirement already satisfied: keras-applications>=1.0.8 in /tensorflow-1.15.2/python3.6 (from keras==2.2.5) (1.0.8)\n",
            "Requirement already satisfied: numpy>=1.9.1 in /usr/local/lib/python3.6/dist-packages (from keras==2.2.5) (1.19.5)\n",
            "Requirement already satisfied: pyyaml in /usr/local/lib/python3.6/dist-packages (from keras==2.2.5) (3.13)\n",
            "Installing collected packages: keras\n",
            "  Found existing installation: Keras 2.3.1\n",
            "    Uninstalling Keras-2.3.1:\n",
            "      Successfully uninstalled Keras-2.3.1\n",
            "Successfully installed keras-2.4.3\n",
            "Collecting csbdeep\n",
            "\u001b[?25l  Downloading https://files.pythonhosted.org/packages/28/4b/f0c9c85114c7660309903ec987128d31c6aef8e3d3ab35a8d30d1c947d5d/csbdeep-0.6.1-py2.py3-none-any.whl (68kB)\n",
            "\u001b[K     |████████████████████████████████| 71kB 6.9MB/s \n",
            "\u001b[?25hRequirement already satisfied: tqdm in /usr/local/lib/python3.6/dist-packages (from csbdeep) (4.41.1)\n",
            "Collecting keras<2.4,>=2.1.2\n",
            "\u001b[?25l  Downloading https://files.pythonhosted.org/packages/ad/fd/6bfe87920d7f4fd475acd28500a42482b6b84479832bdc0fe9e589a60ceb/Keras-2.3.1-py2.py3-none-any.whl (377kB)\n",
            "\u001b[K     |████████████████████████████████| 378kB 19.6MB/s \n",
            "\u001b[?25hRequirement already satisfied: matplotlib in /usr/local/lib/python3.6/dist-packages (from csbdeep) (3.2.2)\n",
            "Requirement already satisfied: six in /usr/local/lib/python3.6/dist-packages (from csbdeep) (1.15.0)\n",
            "Requirement already satisfied: h5py<3 in /usr/local/lib/python3.6/dist-packages (from csbdeep) (2.10.0)\n",
            "Requirement already satisfied: tifffile in /usr/local/lib/python3.6/dist-packages (from csbdeep) (2020.9.3)\n",
            "Requirement already satisfied: numpy in /usr/local/lib/python3.6/dist-packages (from csbdeep) (1.19.5)\n",
            "Requirement already satisfied: scipy in /usr/local/lib/python3.6/dist-packages (from csbdeep) (1.4.1)\n",
            "Requirement already satisfied: keras-preprocessing>=1.0.5 in /usr/local/lib/python3.6/dist-packages (from keras<2.4,>=2.1.2->csbdeep) (1.1.2)\n",
            "Requirement already satisfied: keras-applications>=1.0.6 in /tensorflow-1.15.2/python3.6 (from keras<2.4,>=2.1.2->csbdeep) (1.0.8)\n",
            "Requirement already satisfied: pyyaml in /usr/local/lib/python3.6/dist-packages (from keras<2.4,>=2.1.2->csbdeep) (3.13)\n",
            "Requirement already satisfied: kiwisolver>=1.0.1 in /usr/local/lib/python3.6/dist-packages (from matplotlib->csbdeep) (1.3.1)\n",
            "Requirement already satisfied: cycler>=0.10 in /usr/local/lib/python3.6/dist-packages (from matplotlib->csbdeep) (0.10.0)\n",
            "Requirement already satisfied: pyparsing!=2.0.4,!=2.1.2,!=2.1.6,>=2.0.1 in /usr/local/lib/python3.6/dist-packages (from matplotlib->csbdeep) (2.4.7)\n",
            "Requirement already satisfied: python-dateutil>=2.1 in /usr/local/lib/python3.6/dist-packages (from matplotlib->csbdeep) (2.8.1)\n",
            "Installing collected packages: keras, csbdeep\n",
            "  Found existing installation: Keras 2.4.3\n",
            "    Uninstalling Keras-2.4.3:\n",
            "      Successfully uninstalled Keras-2.4.3\n",
            "Successfully installed csbdeep-0.6.1 keras-2.3.1\n",
            "Collecting stardist\n",
            "\u001b[?25l  Downloading https://files.pythonhosted.org/packages/ea/79/04cf6656a7270b6a46055f7feee38acf62fc5d3384f9bfef7bb6e4d35783/stardist-0.6.1.tar.gz (410kB)\n",
            "\u001b[K     |████████████████████████████████| 419kB 12.7MB/s \n",
            "\u001b[?25h  Installing build dependencies ... \u001b[?25l\u001b[?25hdone\n",
            "  Getting requirements to build wheel ... \u001b[?25l\u001b[?25hdone\n",
            "    Preparing wheel metadata ... \u001b[?25l\u001b[?25hdone\n",
            "Requirement already satisfied: csbdeep>=0.6.0 in /usr/local/lib/python3.6/dist-packages (from stardist) (0.6.1)\n",
            "Requirement already satisfied: numba in /usr/local/lib/python3.6/dist-packages (from stardist) (0.48.0)\n",
            "Requirement already satisfied: scikit-image in /usr/local/lib/python3.6/dist-packages (from stardist) (0.16.2)\n",
            "Requirement already satisfied: matplotlib in /usr/local/lib/python3.6/dist-packages (from csbdeep>=0.6.0->stardist) (3.2.2)\n",
            "Requirement already satisfied: six in /usr/local/lib/python3.6/dist-packages (from csbdeep>=0.6.0->stardist) (1.15.0)\n",
            "Requirement already satisfied: tqdm in /usr/local/lib/python3.6/dist-packages (from csbdeep>=0.6.0->stardist) (4.41.1)\n",
            "Requirement already satisfied: h5py<3 in /usr/local/lib/python3.6/dist-packages (from csbdeep>=0.6.0->stardist) (2.10.0)\n",
            "Requirement already satisfied: tifffile in /usr/local/lib/python3.6/dist-packages (from csbdeep>=0.6.0->stardist) (2020.9.3)\n",
            "Requirement already satisfied: keras<2.4,>=2.1.2 in /usr/local/lib/python3.6/dist-packages (from csbdeep>=0.6.0->stardist) (2.3.1)\n",
            "Requirement already satisfied: scipy in /usr/local/lib/python3.6/dist-packages (from csbdeep>=0.6.0->stardist) (1.4.1)\n",
            "Requirement already satisfied: numpy in /usr/local/lib/python3.6/dist-packages (from csbdeep>=0.6.0->stardist) (1.19.5)\n",
            "Requirement already satisfied: setuptools in /usr/local/lib/python3.6/dist-packages (from numba->stardist) (51.3.3)\n",
            "Requirement already satisfied: llvmlite<0.32.0,>=0.31.0dev0 in /usr/local/lib/python3.6/dist-packages (from numba->stardist) (0.31.0)\n",
            "Requirement already satisfied: PyWavelets>=0.4.0 in /usr/local/lib/python3.6/dist-packages (from scikit-image->stardist) (1.1.1)\n",
            "Requirement already satisfied: imageio>=2.3.0 in /usr/local/lib/python3.6/dist-packages (from scikit-image->stardist) (2.4.1)\n",
            "Requirement already satisfied: networkx>=2.0 in /usr/local/lib/python3.6/dist-packages (from scikit-image->stardist) (2.5)\n",
            "Requirement already satisfied: pillow>=4.3.0 in /usr/local/lib/python3.6/dist-packages (from scikit-image->stardist) (7.0.0)\n",
            "Requirement already satisfied: pyparsing!=2.0.4,!=2.1.2,!=2.1.6,>=2.0.1 in /usr/local/lib/python3.6/dist-packages (from matplotlib->csbdeep>=0.6.0->stardist) (2.4.7)\n",
            "Requirement already satisfied: python-dateutil>=2.1 in /usr/local/lib/python3.6/dist-packages (from matplotlib->csbdeep>=0.6.0->stardist) (2.8.1)\n",
            "Requirement already satisfied: cycler>=0.10 in /usr/local/lib/python3.6/dist-packages (from matplotlib->csbdeep>=0.6.0->stardist) (0.10.0)\n",
            "Requirement already satisfied: kiwisolver>=1.0.1 in /usr/local/lib/python3.6/dist-packages (from matplotlib->csbdeep>=0.6.0->stardist) (1.3.1)\n",
            "Requirement already satisfied: keras-applications>=1.0.6 in /tensorflow-1.15.2/python3.6 (from keras<2.4,>=2.1.2->csbdeep>=0.6.0->stardist) (1.0.8)\n",
            "Requirement already satisfied: pyyaml in /usr/local/lib/python3.6/dist-packages (from keras<2.4,>=2.1.2->csbdeep>=0.6.0->stardist) (3.13)\n",
            "Requirement already satisfied: keras-preprocessing>=1.0.5 in /usr/local/lib/python3.6/dist-packages (from keras<2.4,>=2.1.2->csbdeep>=0.6.0->stardist) (1.1.2)\n",
            "Requirement already satisfied: decorator>=4.3.0 in /usr/local/lib/python3.6/dist-packages (from networkx>=2.0->scikit-image->stardist) (4.4.2)\n",
            "Building wheels for collected packages: stardist\n",
            "  Building wheel for stardist (PEP 517) ... \u001b[?25l\u001b[?25hdone\n",
            "  Created wheel for stardist: filename=stardist-0.6.1-cp36-cp36m-linux_x86_64.whl size=1859733 sha256=68380d67e06be7152b9b527ce388becd1cd07d7d04e0f0af6965dfd3b0d404a5\n",
            "  Stored in directory: /root/.cache/pip/wheels/4e/55/87/80ee468f9edba45cc39668e66e822f1af40e6a68516eb38b51\n",
            "Successfully built stardist\n",
            "Installing collected packages: stardist\n",
            "Successfully installed stardist-0.6.1\n",
            "Collecting gputools\n",
            "\u001b[?25l  Downloading https://files.pythonhosted.org/packages/8c/55/c6b9b63bd97bf09ccc42e01cb1b4e455378ac947a2b1e383d9c64eb15faa/gputools-0.2.9-py3-none-any.whl (152kB)\n",
            "\u001b[K     |████████████████████████████████| 153kB 12.7MB/s \n",
            "\u001b[?25hCollecting pyopencl>=2016.1\n",
            "\u001b[?25l  Downloading https://files.pythonhosted.org/packages/7a/12/7d4171ecfaf61bafdc4a628263d086b8e75ff89f4ada5458ff1fd16d953c/pyopencl-2020.3.1-cp36-cp36m-manylinux1_x86_64.whl (738kB)\n",
            "\u001b[K     |████████████████████████████████| 747kB 28.7MB/s \n",
            "\u001b[?25hCollecting configparser\n",
            "  Downloading https://files.pythonhosted.org/packages/08/b2/ef713e0e67f6e7ec7d59aea3ee78d05b39c15930057e724cc6d362a8c3bb/configparser-5.0.1-py3-none-any.whl\n",
            "Collecting reikna>=0.6.7\n",
            "\u001b[?25l  Downloading https://files.pythonhosted.org/packages/fd/05/e8643dd1efc302291692286fc4fc8cefe277eb7de8a3d95a0e48e7dba2ef/reikna-0.7.5.tar.gz (189kB)\n",
            "\u001b[K     |████████████████████████████████| 194kB 31.9MB/s \n",
            "\u001b[?25hCollecting scikit-tensor-py3; python_version >= \"3.0\"\n",
            "\u001b[?25l  Downloading https://files.pythonhosted.org/packages/33/91/28aa13c7c056c37d53677881cdff1c7e8da097aea5c0e4cb4faafb44ce4f/scikit_tensor_py3-0.4.1-py3-none-any.whl (48kB)\n",
            "\u001b[K     |████████████████████████████████| 51kB 6.4MB/s \n",
            "\u001b[?25hRequirement already satisfied: numpy>=1.11.0 in /usr/local/lib/python3.6/dist-packages (from gputools) (1.19.5)\n",
            "Requirement already satisfied: scipy in /usr/local/lib/python3.6/dist-packages (from gputools) (1.4.1)\n",
            "Collecting pytools>=2017.6\n",
            "\u001b[?25l  Downloading https://files.pythonhosted.org/packages/46/8a/149fa553998155f0a90d92cdbbc60f6c998cc9ad5fe0441b2b82628d001a/pytools-2021.1.tar.gz (62kB)\n",
            "\u001b[K     |████████████████████████████████| 71kB 9.4MB/s \n",
            "\u001b[?25hCollecting appdirs>=1.4.0\n",
            "  Downloading https://files.pythonhosted.org/packages/3b/00/2344469e2084fb287c2e0b57b72910309874c3245463acd6cf5e3db69324/appdirs-1.4.4-py2.py3-none-any.whl\n",
            "Requirement already satisfied: decorator>=3.2.0 in /usr/local/lib/python3.6/dist-packages (from pyopencl>=2016.1->gputools) (4.4.2)\n",
            "Collecting mako>=0.8.0\n",
            "\u001b[?25l  Downloading https://files.pythonhosted.org/packages/5c/db/2d2d88b924aa4674a080aae83b59ea19d593250bfe5ed789947c21736785/Mako-1.1.4.tar.gz (479kB)\n",
            "\u001b[K     |████████████████████████████████| 481kB 54.3MB/s \n",
            "\u001b[?25hCollecting funcsigs>=0.3\n",
            "  Downloading https://files.pythonhosted.org/packages/69/cb/f5be453359271714c01b9bd06126eaf2e368f1fddfff30818754b5ac2328/funcsigs-1.0.2-py2.py3-none-any.whl\n",
            "Requirement already satisfied: dataclasses>=0.7 in /usr/local/lib/python3.6/dist-packages (from pytools>=2017.6->pyopencl>=2016.1->gputools) (0.8)\n",
            "Requirement already satisfied: MarkupSafe>=0.9.2 in /usr/local/lib/python3.6/dist-packages (from mako>=0.8.0->reikna>=0.6.7->gputools) (1.1.1)\n",
            "Building wheels for collected packages: reikna, pytools, mako\n",
            "  Building wheel for reikna (setup.py) ... \u001b[?25l\u001b[?25hdone\n",
            "  Created wheel for reikna: filename=reikna-0.7.5-cp36-none-any.whl size=122267 sha256=ee68c408a0d06776e96b2f035d8f89fa92599d56f4220f75a9bbb1b2af5d29da\n",
            "  Stored in directory: /root/.cache/pip/wheels/82/2d/ba/12c9ba3637183463c471bcf352f5bc1703ab7dfbec9842f04a\n",
            "  Building wheel for pytools (setup.py) ... \u001b[?25l\u001b[?25hdone\n",
            "  Created wheel for pytools: filename=pytools-2021.1-py2.py3-none-any.whl size=60415 sha256=b325986cf1220ddf4372cf9d952d57121eabf0edb1ba4618eb7047921fcb94dc\n",
            "  Stored in directory: /root/.cache/pip/wheels/5d/85/10/7da05d77b47f2cb503e5c4185ba82187d0b6b6736b3c6641e0\n",
            "  Building wheel for mako (setup.py) ... \u001b[?25l\u001b[?25hdone\n",
            "  Created wheel for mako: filename=Mako-1.1.4-py2.py3-none-any.whl size=75675 sha256=f604f314237e146f7ab2ed750a458a692737b09951d4f748d986d5d084217028\n",
            "  Stored in directory: /root/.cache/pip/wheels/ad/10/d3/aeb26e20d19045e2a68e5d3cbb57432e11b5d9c92c99f98d47\n",
            "Successfully built reikna pytools mako\n",
            "\u001b[31mERROR: scikit-tensor-py3 0.4.1 has requirement numpy==1.16.*, but you'll have numpy 1.19.5 which is incompatible.\u001b[0m\n",
            "\u001b[31mERROR: scikit-tensor-py3 0.4.1 has requirement scipy==1.3.*, but you'll have scipy 1.4.1 which is incompatible.\u001b[0m\n",
            "Installing collected packages: appdirs, pytools, pyopencl, configparser, mako, funcsigs, reikna, scikit-tensor-py3, gputools\n",
            "Successfully installed appdirs-1.4.4 configparser-5.0.1 funcsigs-1.0.2 gputools-0.2.9 mako-1.1.4 pyopencl-2020.3.1 pytools-2021.1 reikna-0.7.5 scikit-tensor-py3-0.4.1\n",
            "Collecting btrack\n",
            "\u001b[?25l  Downloading https://files.pythonhosted.org/packages/9b/a9/9dabc5937dc5b096b00369ef3517c8f92592c92e490da85c8e653db42dc8/btrack-0.4.0-py3-none-any.whl (1.2MB)\n",
            "\u001b[K     |████████████████████████████████| 1.2MB 13.6MB/s \n",
            "\u001b[?25hRequirement already satisfied: h5py>=2.10.0 in /usr/local/lib/python3.6/dist-packages (from btrack) (2.10.0)\n",
            "Requirement already satisfied: scipy>=1.3.1 in /usr/local/lib/python3.6/dist-packages (from btrack) (1.4.1)\n",
            "Requirement already satisfied: numpy>=1.17.3 in /usr/local/lib/python3.6/dist-packages (from btrack) (1.19.5)\n",
            "Requirement already satisfied: matplotlib>=3.1.1 in /usr/local/lib/python3.6/dist-packages (from btrack) (3.2.2)\n",
            "Requirement already satisfied: cvxopt>=1.2.0 in /usr/local/lib/python3.6/dist-packages (from btrack) (1.2.5)\n",
            "Requirement already satisfied: six in /usr/local/lib/python3.6/dist-packages (from h5py>=2.10.0->btrack) (1.15.0)\n",
            "Requirement already satisfied: pyparsing!=2.0.4,!=2.1.2,!=2.1.6,>=2.0.1 in /usr/local/lib/python3.6/dist-packages (from matplotlib>=3.1.1->btrack) (2.4.7)\n",
            "Requirement already satisfied: kiwisolver>=1.0.1 in /usr/local/lib/python3.6/dist-packages (from matplotlib>=3.1.1->btrack) (1.3.1)\n",
            "Requirement already satisfied: python-dateutil>=2.1 in /usr/local/lib/python3.6/dist-packages (from matplotlib>=3.1.1->btrack) (2.8.1)\n",
            "Requirement already satisfied: cycler>=0.10 in /usr/local/lib/python3.6/dist-packages (from matplotlib>=3.1.1->btrack) (0.10.0)\n",
            "Installing collected packages: btrack\n",
            "Successfully installed btrack-0.4.0\n"
          ],
          "name": "stdout"
        }
      ]
    },
    {
      "cell_type": "code",
      "metadata": {
        "colab": {
          "base_uri": "https://localhost:8080/"
        },
        "id": "0lp6lqPbxhLy",
        "outputId": "01c50194-09d0-4064-c04a-39b6372b8ce4"
      },
      "source": [
        "%cd '/content/drive/My Drive/SmartSeeds/'\n",
        "import os\n",
        "import glob\n",
        "import sys\n",
        "sys.path.append('../')\n",
        "import glob\n",
        "from csbdeep.models import Config, CARE\n",
        "from Utils.helpers import doubleplot\n",
        "from csbdeep.utils import normalize\n",
        "os.environ[\"HDF5_USE_FILE_LOCKING\"] = \"FALSE\"\n",
        "from pathlib import Path\n",
        "from tifffile import imread, imwrite\n",
        "import numpy as np"
      ],
      "execution_count": 11,
      "outputs": [
        {
          "output_type": "stream",
          "text": [
            "/content/drive/My Drive/SmartSeeds\n"
          ],
          "name": "stdout"
        }
      ]
    },
    {
      "cell_type": "code",
      "metadata": {
        "colab": {
          "base_uri": "https://localhost:8080/"
        },
        "id": "ex5n9HmNxhLy",
        "outputId": "5cee2e3c-575f-42d5-ed6e-8be92a9b4c4d"
      },
      "source": [
        "ImageDir = '/content/drive/My Drive/FMIChallenge/3DRaw/'\n",
        "Model_Dir = '/content/drive/My Drive/FMIChallenge/Models/'\n",
        "\n",
        "DenoiseResults = ImageDir + 'Denoised/'\n",
        "DenoiseProjectedResults = ImageDir + 'DenoisedProjected/'\n",
        "NoiseModelName = '3DDenoisingModel'\n",
        "#display results after these many images\n",
        "NoiseModel = CARE(config = None, name = NoiseModelName, basedir = Model_Dir)\n"
      ],
      "execution_count": 7,
      "outputs": [
        {
          "output_type": "stream",
          "text": [
            "WARNING:tensorflow:From /tensorflow-1.15.2/python3.6/tensorflow_core/python/ops/resource_variable_ops.py:1630: calling BaseResourceVariable.__init__ (from tensorflow.python.ops.resource_variable_ops) with constraint is deprecated and will be removed in a future version.\n",
            "Instructions for updating:\n",
            "If using Keras pass *_constraint arguments to layers.\n",
            "Loading network weights from 'weights_best.h5'.\n"
          ],
          "name": "stdout"
        }
      ]
    },
    {
      "cell_type": "code",
      "metadata": {
        "colab": {
          "base_uri": "https://localhost:8080/"
        },
        "id": "F48pKF8ExhLz",
        "outputId": "0ff1b9ad-620a-43f2-c357-841ea601d939"
      },
      "source": [
        "Raw_path = os.path.join(ImageDir, '*tif')\n",
        "Path(DenoiseResults).mkdir(exist_ok = True)\n",
        "Path(DenoiseProjectedResults).mkdir(exist_ok = True)\n",
        "axes = 'ZYX'\n",
        "filesRaw = glob.glob(Raw_path)\n",
        "filesRaw.sort\n",
        "for fname in filesRaw:\n",
        "          \n",
        "                    #Read image        \n",
        "                    image = imread(fname).astype('float32')\n",
        "                    print('Image shape', image.shape)\n",
        "                    Name = os.path.basename(os.path.splitext(fname)[0])\n",
        "                    x = NoiseModel.predict(image,axes)\n",
        "                    #Save the denoised result\n",
        "                    imwrite((DenoiseResults + Name + '.tif' ) , x.astype('float32'))\n",
        "                    #Do sum projection and save the result\n",
        "                    x = np.sum(x, axis = 0)\n",
        "                    imwrite((DenoiseProjectedResults + Name + '.tif' ) , x.astype('float32'))\n"
      ],
      "execution_count": 15,
      "outputs": [
        {
          "output_type": "stream",
          "text": [
            "TiffPage 0: TypeError: read_bytes() missing 3 required positional arguments: 'dtype', 'count', and 'offsetsize'\n"
          ],
          "name": "stderr"
        },
        {
          "output_type": "stream",
          "text": [
            "Image shape (34, 512, 512)\n"
          ],
          "name": "stdout"
        },
        {
          "output_type": "stream",
          "text": [
            "TiffPage 0: TypeError: read_bytes() missing 3 required positional arguments: 'dtype', 'count', and 'offsetsize'\n"
          ],
          "name": "stderr"
        },
        {
          "output_type": "stream",
          "text": [
            "Image shape (34, 512, 512)\n"
          ],
          "name": "stdout"
        },
        {
          "output_type": "stream",
          "text": [
            "TiffPage 0: TypeError: read_bytes() missing 3 required positional arguments: 'dtype', 'count', and 'offsetsize'\n"
          ],
          "name": "stderr"
        },
        {
          "output_type": "stream",
          "text": [
            "Image shape (34, 512, 512)\n"
          ],
          "name": "stdout"
        },
        {
          "output_type": "stream",
          "text": [
            "TiffPage 0: TypeError: read_bytes() missing 3 required positional arguments: 'dtype', 'count', and 'offsetsize'\n"
          ],
          "name": "stderr"
        },
        {
          "output_type": "stream",
          "text": [
            "Image shape (34, 512, 512)\n"
          ],
          "name": "stdout"
        },
        {
          "output_type": "stream",
          "text": [
            "TiffPage 0: TypeError: read_bytes() missing 3 required positional arguments: 'dtype', 'count', and 'offsetsize'\n"
          ],
          "name": "stderr"
        },
        {
          "output_type": "stream",
          "text": [
            "Image shape (34, 512, 512)\n"
          ],
          "name": "stdout"
        },
        {
          "output_type": "stream",
          "text": [
            "TiffPage 0: TypeError: read_bytes() missing 3 required positional arguments: 'dtype', 'count', and 'offsetsize'\n"
          ],
          "name": "stderr"
        },
        {
          "output_type": "stream",
          "text": [
            "Image shape (34, 512, 512)\n"
          ],
          "name": "stdout"
        }
      ]
    },
    {
      "cell_type": "code",
      "metadata": {
        "id": "h3n5vRTl0M7p"
      },
      "source": [
        ""
      ],
      "execution_count": null,
      "outputs": []
    }
  ]
}